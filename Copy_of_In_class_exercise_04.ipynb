{
  "nbformat": 4,
  "nbformat_minor": 0,
  "metadata": {
    "colab": {
      "name": "Copy of In-class-exercise-04.ipynb",
      "provenance": [],
      "collapsed_sections": [],
      "include_colab_link": true
    },
    "kernelspec": {
      "name": "python3",
      "display_name": "Python 3"
    }
  },
  "cells": [
    {
      "cell_type": "markdown",
      "metadata": {
        "id": "view-in-github",
        "colab_type": "text"
      },
      "source": [
        "<a href=\"https://colab.research.google.com/github/vyshakh19/vyshakh_INFO5731_spring2020/blob/master/Copy_of_In_class_exercise_04.ipynb\" target=\"_parent\"><img src=\"https://colab.research.google.com/assets/colab-badge.svg\" alt=\"Open In Colab\"/></a>"
      ]
    },
    {
      "cell_type": "markdown",
      "metadata": {
        "id": "EuX00KHNeSpw",
        "colab_type": "text"
      },
      "source": [
        "# **The fourth in-class-exercise**"
      ]
    },
    {
      "cell_type": "markdown",
      "metadata": {
        "id": "s-vTOb03hG1f",
        "colab_type": "text"
      },
      "source": [
        "# 1. Text Data Preprocessing\n",
        "\n",
        "Here is a [legal case](https://github.com/unt-iialab/INFO5731_Spring2020/blob/master/In_class_exercise/01-05-1%20%20Adams%20v%20Tanner.txt) we collected from westlaw, please follow the steps we mentioned in lesson 5 to clean the data:\n",
        "\n",
        "\n",
        "\n",
        "## 1.1 Basic feature extraction using text data\n",
        "\n",
        "*   Number of sentences\n",
        "*   Number of words\n",
        "*   Number of characters\n",
        "*   Average word length\n",
        "*   Number of stopwords\n",
        "*   Number of special characters\n",
        "*   Number of numerics\n",
        "*   Number of uppercase words\n",
        "\n",
        "## 1.2 Basic Text Pre-processing of text data\n",
        "\n",
        "*   Lower casing\n",
        "*   Punctuation removal\n",
        "*   Stopwords removal\n",
        "*   Frequent words removal\n",
        "*   Rare words removal\n",
        "*   Spelling correction\n",
        "*   Tokenization\n",
        "*   Stemming\n",
        "*   Lemmatization\n",
        "\n",
        "## 1.3 Save all the **clean sentences** to a **csv file** (one column, each raw is a sentence) after finishing all the steps above.\n",
        "\n",
        "\n",
        "## 1.4 Advance Text Processing\n",
        "\n",
        "*   Calculate the term frequency of all the terms.\n",
        "*   Print out top 10 1-gram, top 10 2-grams, and top 10 2-grams terms as features.\n"
      ]
    },
    {
      "cell_type": "code",
      "metadata": {
        "id": "vR0L3_CreM_A",
        "colab_type": "code",
        "outputId": "755d203e-e143-459c-93a5-9f03f4d4e0c4",
        "colab": {
          "base_uri": "https://localhost:8080/",
          "height": 1000
        }
      },
      "source": [
        "import pandas as pd\n",
        "file1 = open('/content/INFO5731_Spring2020-master_In_class_exercise_01-05-1  Adams v Tanner.txt', 'r') \n",
        "Lines = file1.readlines()\n",
        "for a in Lines:\n",
        "  print(a)\n",
        "\n",
        "\n",
        "\n",
        "\n",
        "\n",
        "\n",
        "\n",
        "\n"
      ],
      "execution_count": 0,
      "outputs": [
        {
          "output_type": "stream",
          "text": [
            "\n",
            "\n",
            "5 Ala. 740\n",
            "\n",
            "Supreme Court of Alabama.\n",
            "\n",
            "ADAMS\n",
            "\n",
            "v.\n",
            "\n",
            "TANNER AND HORTON.\n",
            "\n",
            "June Term, 1843.\n",
            "\n",
            "Synopsis\n",
            "\n",
            "WRIT of Error to the Circuit Court of Sumter.\n",
            "\n",
            " \n",
            "\n",
            "\n",
            "\n",
            "\n",
            "\n",
            "West Headnotes (2)\n",
            "\n",
            "\n",
            "\n",
            "\n",
            "\n",
            "[1]\n",
            "\n",
            "Chattel Mortgages\n",
            "\n",
            "Crops\n",
            "\n",
            "A growing crop has such an existence as to be the subject-matter of a mortgage or other contract which passes an interest to vest in possession, either immediately or at a future time.\n",
            "\n",
            "4 Cases that cite this headnote\n",
            "\n",
            "\n",
            "\n",
            "[2]\n",
            "\n",
            "Creditors’ Remedies\n",
            "\n",
            "Lien and Priority\n",
            "\n",
            "Under St.1821, prohibiting a levy on a crop until it has been gathered, no lien attaches in favor of a fi. fa. on a growing crop, nor does such lien attach until after the crop has been gathered.\n",
            "\n",
            "5 Cases that cite this headnote\n",
            "\n",
            "\n",
            "\n",
            "**1 This was a trial of the right of property under the statute. In November, 1840, an execution issued from the circuit court of Sumter, at the suit of the plaintiff in error, requiring the sheriff of that county, to make of the goods, &c., of Allen Harrison and others, the sum of thirty-seven hundred and seventy-seven 80-100 dollars, besides costs. This execution was levied on thirty bales of cotton, as the property of Allen Harrison, which was claimed, and a bond given to try the right. An issue was made up to try the question of the liability of the cotton to the plaintiff’s execution, and submitted to a jury. On the trial, a bill of exceptions was sealed at the instance of the plaintiff. The plaintiff proved that he recovered his judgment in October, 1839; that an execution *741 was issued thereon on the 7th Nov. thereafter, and that alias and pluries fieri facias’, issued regularly up to the time levy was made; that the cotton levied on was growed on the plantation of Harrison, and cultivated by the hands in his service. It was proved by the claimants, by the production of a written contract, that Harrison, on the twenty-second of May, 1840, in consideration that the claimants were involved, as indorsers for Burton & Harrison of Sumter county, and were then exposed to an execution, amounting to upwards of fourteen thousand dollars, bargained and sold to the claimants all his growing crop of cotton &c., consisting of one hundred and twenty acres, &c. Allen Harrison promised and obliged himself to give up his crop to the use of the claimants at any time to save them from suffering as his indorsers; if the crop matured and was gathered he undertook to deliver the cotton in Gainesville. The claimants came from Tennessee, (where they resided) about the first of September, 1840, bringing with them three or four white laborers, and took possession of the crop and slaves, and with the latter, and white laborers, gathered the cotton, prepared it for market, and when levied on, it was in a ware-house in Gainesville. The plaintiff then proved by Harrison, that the claimants took possession of the crop, while he was absent, and disposed of it without his consent. It was admitted, that the contract was made in good faith.\n",
            "\n",
            "The court charged the jury, that the plaintiff had no lien by virtue of his judgment, and execution on the growing crop; that Harrison had a right to convey it, without being in any manner restrained by them; that the writing adduced, was a sale of the crop, but if it was not, and the lien of the fieri facias would have attached upon it, when gathered, yet if the claimants obtained possession on the first of September, and controlled the gathering of the crop, then no lien attached, and it was not subject to the levy.\n",
            "\n",
            "Attorneys and Law Firms\n",
            "\n",
            "R. H. SMITH, for the plaintiff, in error, made the following points.--1. The crop of Harrison, must, in May, 1840, have been in an immature state, and it is insisted, was not the subject of a sale. 2. By the common law, a growing crop could be levied on and sold, [1 Salk. Rep. 361; 1 Bos. & P. Rep. 307; 6 East’s Rep. 604, note 1; 2 Johns. Rep. 418, 422; 7 Mass. Rep. 34,] and our statue, [[[Aik. Dig. § 41, p. 167,] which forbids the levy of an *742 execution on a growing crop, is to receive a strict construction. It merely inhibits the levy, but the lien attaches, and a levy and sale may be made after the crop matures, and is gathered. 3. The contract does not purport to convey the growing crop, but is a mere executory agreement, requiring some act to be done by Harrison, in order to invest the claimants with the right of property. [Chit. on Con. 112, 207; 3 Johns. Rep. 338, 424; 5 Wend. Rep. 26; 13 Johns. Rep. 235; 8 Dowl. Rep, 693;] and until this act was done, the crop, no matter by who gathered, because liable to be seized for Harrison’s debts. A court of chancery would not compel a specific performance of the contract at the claimant’s instance. 4. The charge of the court is also objectionable in deciding disputed facts.\n",
            "\n",
            "W. M. MURPHY, with whom was W. G. JONES, for the defendant--cited the act of 1821, [Aik. Dig. 167,] which declares it to be lawful to levy an execution on a planted crop, until it is gathered, and contended that no lien attached in favor of the plaintiff. This being the case, the defendant in execution was not restrained from making the contract which he did with the claimants.\n",
            "\n",
            "**2 The lien of an execution is destroyed by an injunction, because it takes away the right to levy it. In short, whenever the right to levy an execution is but temporarily suspended, or withdrawn, the lien is during that time lost. [[[[Whipple v. Foot, 2 Johns. Rep. 216; 3 Wash. C. C. Rep. 66; 4 How. Rep. 130.]\n",
            "\n",
            "It is admitted that the contract between the defendant in execution, and the claimants, was in good faith, if so, the severance and removal of the cotton gave the latter a good title against all creditors of the former.\n",
            "\n",
            "Opinion\n",
            "\n",
            "\n",
            "\n",
            "COLLIER, C. J.\n",
            "\n",
            "\n",
            "\n",
            "There can be no doubt that a growing crop has such an existence as to be the subject matter of a sale, mortgage, or other contract which possess an interest to vest in possession, either immediately or at some future time. This proposition has frequently been assumed as unquestionable; the point of inquiry generally being, whether under a statute of frauds, such as the 29 Chas. 2, it is a mere chattel, and transferrable by parol without writing. [Chitty on Con. 241-2, 332; Whipple v. Foot, 2 Johns. Rep. 422; Stewart v. Doughty, 9 Johns. Rep. 112; *743 Austin v. Sawyer, 9 Cow. Rep. 39. See also Ravesies v. Lee & Alston, at last term.] The contract set out in the bill of exceptions, we are inclined to think evidences rather a mortgage than an absolute sale. It recites that the claimants are involved as indorsers of a mercantile firm, of which the defendant was a partner; that an execution for upwards of fourteen thousand dollars against their estate, is in the sheriff’s hands, and that a conveyance is made of the crop of cotton, corn and oats, which the grantor agrees to give up at any time to the use of the claimants, so as to prevent injury to them as indorsers. The defendant in execution might at any time have divested the interest which the contract vested in the claimants, by discharging their liability as his indorsers, or a judgment creditor might have satisfied the lien, and when the crop was gathered, have levied on, and sold it under a fieri facias.\n",
            "\n",
            "We will then consider the writing under which the claimants assert a right, as a mortgage with a power to take possession any time during the year, unless they should be relieved from their engagements as indorsers. It is not pretended that their liability has been satisfied, and it is admitted that the parties have acted with good faith, so that it is a dry question of law, whether the right of the plaintiff, or the claimants shall prevail. Assuming for the present that the execution of the plaintiffs did not operate a lien upon the planted crop previous to the contract of May, 1840, we will inquire whether the defendant in execution had such an interest as could be levied on and sold.\n",
            "\n",
            "The claimants had previous to the levy of the execution taken possession of the crop, prepared the cotton for market, and removed it to a ware-house. This possession, it is insisted, was a trespass, because it was acquired in the absence of the defendant in execution, and without his consent then given. Conceding the truth of the facts stated in the bill of exceptions, and we think it will not follow, that the possession of the claimants is a nullity, and that the case must be considered as if they had never interfered with the crop. The contract contains an express undertaking to give up the crop at any time the claimants might require it for their indemnity, and if they took possession of it in the absence of the grantor, (though without his consent,) if he subsequently acquiesced in it, the inference would be, if necessary, that their acts were approved by him. Taking this to be clear *744 law, and it will be seen, that the defendant in execution at the time of the levy had nothing more than a mere equitable right to redeem the cotton by paying the debts indorsed by the claimants. He had no possession coupled with this equity, but only a naked equity, which it has been held cannot be reached by an ordinary execution. [Perkins and Elliott v. Mayfield, 5 Porter’s Rep. 182.]\n",
            "\n",
            "**3 This brings us back to the question, whether the execution of the plaintiff was a lien on the growing crop, so as to defeat the mortgage to the claimants. It has been frequently mooted whether, at common law, corn, &c., before it is gathered, can be seized under a fieri facias. Mr. Dane, in remarking upon this point, says, “The American editor of Bacon’s Abridgment, says, ‘Wheat growing in the ground is a chattel, and subject to be taken in execution; and the sheriff may suffer it to grow till harvest, and then cut and sell it; or may perhaps sell it growing, and the purchaser will then be entitled to enter, for the purpose of cutting and carrying it away.” [He cites Whipple v. Foot, ut supra, also Poole’s case, Salk. 368; 1 Bos. & P. 397; 6 East, 604, n.] But Whipple v. Foot seems to be the only case that supports his position, that unripe wheat or corn may be taken in execution; and the same editor states that nothing can be taken in execution which cannot be sold. This position, says the learned commentator, is no doubt law. But it is unnecessary to consider how this matter stands at common law. The first section of the act of 1821, “To prevent sheriffs and other officers from levying executions in certain cases, enacts, that “It shall not be lawful for any sheriff or other officer, to levy a writ of fieri facias or other execution on the planted crop of a debtor, or person against whom an execution may issue, until the crop is gathered.” [Aik. Dig. 167.] Now here is an express inhibition to levy an execution on a crop while it remains on, or in the ground, and until it is severed from the soil to which it owes its growth. In respect to property thus situated, will the lien of an execution attach eo instanti upon its being placed in the hands of an officer? If so, the act cited, will only have the effect of keeping the right to levy it in abeyance until the crop is gathered. The lien of an execution does, not only operate so as to prevent the debtor from disposing of the property on which it attaches, but gives to the creditor the right to have it sold to satisfy his *745 judgment. The lien and the right to levy are intimately connected, and if the latter be taken away, or suspended, the effect, at common law, is the destruction of the former. This principle is fully established by Mansony and Hurtell v. The President, &c. of the Bank of the United States, and its assignees, and the citations contained in the opinion of the court in that case, as also in my opinion in Wood v. Gary, et al., both decided at the last term. That it was competent for the legislature to have made it unlawful to levy an execution on particular property, until its condition was changed, and still to give it a continuing lien, cannot be doubted; but there is nothing in the act in question to indicate that such is its intention. If the object was merely to suspend the sale, until the crop was gathered, it would have been very easy to have said so in explicit terms, but declaring as the statute does, in totidem verbis, that the execution shall not be levied, the legislature must be supposed to have meant what they have expressed. The act was induced by the doubts which existed as to what was the common law, and was intended to remove those doubts by declaring what should be the law in future. It does not create a lien or authorize a levy in a case in which the law, as it then existed, was silent. The idea that the lien attached upon the planted crop as soon as the execution was delivered to the sheriff, though the right to levy it was postponed until a severance took place, is attempted to be deduced from the last words of the section cited, viz: “until the crop is gathered.” These words cannot, upon any just principles of construction be regarded so potent as to give to an execution a retrospective effect. They do not refer to the lien, if they did they would postpone it until the crop was gathered; but it is the levy they relate to and postpone until that event takes place.\n",
            "\n",
            "**4 The right to levy an execution on a planted crop, then, being expressly taken away by the statute, the lien which is connected with and consequent upon that right, never attaches until severance. This being the case, the right of the defendant in execution to make the contract which he did, is unquestionable, and the title of the claimants, coupled as it was with the possession, was paramount to any lien which the execution could exert.\n",
            "\n",
            "The circuit judge may have mistaken the law in supposing that the contract was a sale, but if he did, an error in that respect was very immaterial, for whether a sale or mortgage, as we have *746 seen, under the facts of the case, the defendant in execution has no interest that could be seised and sold under execution. There is no assumption of any material fact in the charge; but the possession of the claimant, the time when acquired, the gathering of the crop, &c., are all referred to the determination of the jury; who are instructed, if they find them according to the evidence adduced, that no lien ever attached in favor of the plaintiff. The bona fides of the contract was conceded, so that no charge was necessary on that point, and it could not with propriety enter into the inquiry of the jury.\n",
            "\n",
            "It results from what has been said, that the judgment of the circuit court is affirmed.\n",
            "\n",
            "\n",
            "\n",
            "DISSENTING OPINION.\n",
            "\n",
            "\n",
            "\n",
            "ORMOND, J.\n",
            "\n",
            "**4 The statute which presents the question before the court is, that “it shall not be lawful for any sheriff or other officer to levy a writ of fieei facias or other execution, on the planted crop of a debtor, or person against whom an execution may issue, until the crop is gathered.” [Clay’s Dig. 210, § 46.]\n",
            "\n",
            "I shall not enter upon the enquiry, whether, at common law, an execution could be levied upon a growing crop, though I apprehend, it would not be difficult to maintain the affirmative of the proposition. It is sufficient for my purpose, that the statute supposes such to have been the law, as it doubtless was the practice.\n",
            "\n",
            "This act must be considered in connection with the other acts upon the same subject. The policy of the State, as indicated by these statutes, is undeniably that all the property of a debtor, real and personal, to which he has a legal title, shall be subject to sale by execution, and it appears to me that it would be difficult to assign a reason for the exemption of this species of property from the claims of judgment creditors, and for giving to the defendant in execution the right to dispose of it. It appears to me, with all deference, that the argument that because the sheriff was prohibited from levying on a ““planted crop,” that therefore the execution had lost its lien, and the debtor had the right to sell it, is a non sequitur. The mischief which the statute designed to remedy was, the sacrifice which would be necessarily made by the sale of an immature crop: the statute enables the debtor to retain it until it matures, and by severing it from the soil to put it *747 in a condition to bring its value--the lien in the mean time continuing in the plaintiff in execution.\n",
            "\n",
            "**5 If further confirmation of the correctness of this view were necessary, it will be found, I think, in the language employed by the legislature. The sheriff is forbidden to levy on a “planted crop” until the crop is gathered. Now, if the view taken by the majority of the court, is correct, the right secured to the plaintiff in execution, of levying on the crop after it is gathered, may be frustrated, as it was in this case, by a sale by the defendant in execution, whilst the crop is in an immature state. The construction which has been put upon the statute, involves the singular anomaly, that the legislature, for the protection of the debtor, has forbidden the plaintiff in execution to sell the property of his debtor, because it is not in a condition to bring its value, and yet permits the debtor, voluntarily, by a sale, to submit to the same sacrifice, for his own benefit. It is, in effect, a gift to the defendant in execution, of the growing crop, provided he does not gather it himself, but disposes of it in its then condition. This, I feel a thorough conviction, was not the intention of the legislature; but that it was to secure him from loss, by prohibiting a levy and sale of the crop, until it was gathered, when the temporary suspension of the right to sell, ceased.\n",
            "\n",
            "All Citations\n",
            "\n",
            "5 Ala. 740, 1843 WL 284\n",
            "\n",
            "End of Document\n",
            "\n",
            "© 2019 Thomson Reuters. No claim to original U.S. Government Works.\n",
            "\n",
            "Citing References (9)\n",
            "\n",
            "Treatment\n",
            "\n",
            "Title\n",
            "\n",
            "Date\n",
            "\n",
            "Type\n",
            "\n",
            "Depth\n",
            "\n",
            "Headnote(s)\n",
            "\n",
            "Cited by\n",
            "\n",
            "1.  Booker v. Jones’s Adm’x\n",
            "\n",
            "55 Ala. 266, 271 , Ala.\n",
            "\n",
            "Trover for Conversion of Cotton, with Counts in Case. APPEAL from the Circuit Court of Hale. Tried before the Hon. M. J. SAFFOLD.\n",
            "\n",
            "Dec Term 1876\n",
            "\n",
            "Case\n",
            "\n",
            "—\n",
            "\n",
            "Cited by\n",
            "\n",
            "2.  Lehman, Durr & Co. v. Marshall\n",
            "\n",
            "47 Ala. 362, 376 , Ala.\n",
            "\n",
            "[TROVER FOR CONVERSION OF COTTON.] APPEAL from the City Court of Montgomery. Tried before Hon. JOHN D. CUNNINGHAM.\n",
            "\n",
            "Jan Term 1872\n",
            "\n",
            "Case\n",
            "\n",
            "—\n",
            "\n",
            "Cited by\n",
            "\n",
            "3.  Bibb v. Janney\n",
            "\n",
            "45 Ala. 329, 334 , Ala.\n",
            "\n",
            "[GARNISHMENT; WAGES; WAIVER OF EXEMPTION.] APPEAL from City Court of Montgomery. Tried before Hon. JOHN D. CUNNINGHAM.\n",
            "\n",
            "Jan Term 1871\n",
            "\n",
            "Case\n",
            "\n",
            "—\n",
            "\n",
            "Cited by\n",
            "\n",
            "4.  McKenzie v. Lampley\n",
            "\n",
            "31 Ala. 526, 527 , Ala.\n",
            "\n",
            "[TRIAL OF RIGHT OF PROPERTY IN COTTON.] APPEAL from the Circuit Court of Barbour. Tried before the Hon. S. D. HALE.\n",
            "\n",
            "Jan Term 1858\n",
            "\n",
            "Case\n",
            "\n",
            "—\n",
            "\n",
            "Cited by\n",
            "\n",
            "5.  Evans v. Lamar\n",
            "\n",
            "21 Ala. 333, 335+ , Ala.\n",
            "\n",
            "ERROR to the Circuit Court of Autauga. Tried before the Hon. A. B. MOORE.\n",
            "\n",
            "Jun Term 1852\n",
            "\n",
            "Case\n",
            "\n",
            "—\n",
            "\n",
            "Cited by\n",
            "\n",
            " 6.  Dewey v. Bowman\n",
            "\n",
            "8 Cal. 145, 147 , Cal.\n",
            "\n",
            "The judgment of the Court below, against Jacob S. Cohen, should be reversed, for the following reasons: Because the finding of the Court was, so far as Cohen was concerned,...\n",
            "\n",
            "Jul Term 1857\n",
            "\n",
            "Case\n",
            "\n",
            "—\n",
            "\n",
            "Mentioned by\n",
            "\n",
            "7.  Rees v. Coats\n",
            "\n",
            "65 Ala. 256, 258 , Ala.\n",
            "\n",
            "Trover for Conversion of Three Bales of Cotton. APPEAL from the Circuit Court of Etowah. Tried before the Hon. WM. L. WHITLOCK.\n",
            "\n",
            "Nov Term 1880\n",
            "\n",
            "Case\n",
            "\n",
            "—\n",
            "\n",
            "Mentioned by\n",
            "\n",
            "8.  Edwards v. Thompson\n",
            "\n",
            "4 S.W. 913, 914 , Tenn.\n",
            "\n",
            "Appeal from circuit court, Weakley county.\n",
            "\n",
            "May 1887\n",
            "\n",
            "Case\n",
            "\n",
            "—\n",
            "\n",
            "—\n",
            "\n",
            "9.  Growing crops as subject to levy and seizure under attachment or execution\n",
            "\n",
            "103 A.L.R. 464\n",
            "\n",
            "Generally, at common law, growing crops raised by annual planting, while still attached to the soil, are regarded as personal chattels, subject to levy and seizure under attachment...\n",
            "\n",
            "1936\n",
            "\n",
            "ALR\n",
            "\n",
            "—\n",
            "\n",
            "—\n",
            "\n",
            "Table of Authorities (3)\n",
            "\n",
            "Treatment\n",
            "\n",
            "Referenced Title\n",
            "\n",
            "Type\n",
            "\n",
            "Depth\n",
            "\n",
            "Quoted\n",
            "\n",
            "Page Number\n",
            "\n",
            "Mentioned\n",
            "\n",
            "1.  Austin v. Sawyer\n",
            "\n",
            "9 Cow. 39, N.Y.Sup., 1828\n",
            "\n",
            "Parol evidence is not admissible to contradict, or substantially vary, a written contract. And where A. quit-claimed land to W., on which a crop of wheat was growing, reserving the...\n",
            "\n",
            "Case\n",
            "\n",
            "2\n",
            "\n",
            "Cited\n",
            "\n",
            " 2.  Perkins v. Mayfield\n",
            "\n",
            "5 Port. 182, Ala., 1837\n",
            "\n",
            "On writ of error to the Circuit Court of Tuskaloosa.\n",
            "\n",
            "Case\n",
            "\n",
            "2+\n",
            "\n",
            "Mentioned\n",
            "\n",
            "3.  Stewart v. Doughty\n",
            "\n",
            "9 Johns. 108, N.Y.Sup., 1812\n",
            "\n",
            "A. let to B. a farm for six years, and A. agreed “to render, yield and pay to A. the one half of all the wheat, rye, corn and other grain, raised on the farm in each year, in the...\n",
            "\n",
            "Case\n",
            "\n",
            "2\n",
            "\n",
            "Filings\n",
            "\n",
            "There are no Filings for this citation.\n",
            "\n",
            "Negative Treatment\n",
            "\n",
            "There are no Negative Treatment results for this citation.\n",
            "\n",
            "History\n",
            "\n",
            "There are no History results for this citation.\n",
            "\n"
          ],
          "name": "stdout"
        }
      ]
    },
    {
      "cell_type": "code",
      "metadata": {
        "id": "NifBp17BFMR-",
        "colab_type": "code",
        "outputId": "e252eaa0-0386-4640-a84a-bae4a8a0183f",
        "colab": {
          "base_uri": "https://localhost:8080/",
          "height": 35
        }
      },
      "source": [
        "!pip install pysbd\n"
      ],
      "execution_count": 0,
      "outputs": [
        {
          "output_type": "stream",
          "text": [
            "Requirement already satisfied: pysbd in /usr/local/lib/python3.6/dist-packages (0.2.3)\n"
          ],
          "name": "stdout"
        }
      ]
    },
    {
      "cell_type": "code",
      "metadata": {
        "id": "a-4n1DfoHx87",
        "colab_type": "code",
        "outputId": "e11f02f2-70b7-4f99-c9bc-da42e2ca7871",
        "colab": {
          "base_uri": "https://localhost:8080/",
          "height": 104
        }
      },
      "source": [
        "!pip install nltk\n",
        "nltk.download('punkt')"
      ],
      "execution_count": 0,
      "outputs": [
        {
          "output_type": "stream",
          "text": [
            "Requirement already satisfied: nltk in /usr/local/lib/python3.6/dist-packages (3.2.5)\n",
            "Requirement already satisfied: six in /usr/local/lib/python3.6/dist-packages (from nltk) (1.12.0)\n",
            "[nltk_data] Downloading package punkt to /root/nltk_data...\n",
            "[nltk_data]   Unzipping tokenizers/punkt.zip.\n"
          ],
          "name": "stdout"
        },
        {
          "output_type": "execute_result",
          "data": {
            "text/plain": [
              "True"
            ]
          },
          "metadata": {
            "tags": []
          },
          "execution_count": 15
        }
      ]
    },
    {
      "cell_type": "code",
      "metadata": {
        "id": "XAP7qcUkFZ8c",
        "colab_type": "code",
        "outputId": "29ba99a8-f4ce-44a2-9473-994f8fc9fd11",
        "colab": {
          "base_uri": "https://localhost:8080/",
          "height": 35
        }
      },
      "source": [
        "import pysbd\n",
        "import nltk.data\n",
        "import string\n",
        "import re\n",
        "line = open(\"INFO5731_Spring2020-master_In_class_exercise_01-05-1  Adams v Tanner.txt\",\"r\")\n",
        "x=line.read()\n",
        "seg = pysbd.Segmenter(language=\"en\", clean=False)\n",
        "print(\"no of sentences\",len(seg.segment(x)))\n",
        "\n",
        "\n",
        "\n"
      ],
      "execution_count": 0,
      "outputs": [
        {
          "output_type": "stream",
          "text": [
            "no of sentences 220\n"
          ],
          "name": "stdout"
        }
      ]
    },
    {
      "cell_type": "code",
      "metadata": {
        "id": "9yGgkUh3WF8c",
        "colab_type": "code",
        "outputId": "a11be16a-f214-4790-ec50-d93cbecda340",
        "colab": {
          "base_uri": "https://localhost:8080/",
          "height": 35
        }
      },
      "source": [
        "type(seg.segment(x))"
      ],
      "execution_count": 0,
      "outputs": [
        {
          "output_type": "execute_result",
          "data": {
            "text/plain": [
              "list"
            ]
          },
          "metadata": {
            "tags": []
          },
          "execution_count": 29
        }
      ]
    },
    {
      "cell_type": "code",
      "metadata": {
        "id": "-23XOKmaTVp-",
        "colab_type": "code",
        "outputId": "ca514d0b-ecde-4385-a3ac-0e528a135758",
        "colab": {
          "base_uri": "https://localhost:8080/",
          "height": 225
        }
      },
      "source": [
        "import pandas as pd\n",
        "df = pd.DataFrame(seg.segment(x))\n",
        "df[0]"
      ],
      "execution_count": 0,
      "outputs": [
        {
          "output_type": "execute_result",
          "data": {
            "text/plain": [
              "0                                             5 Ala. 740\n",
              "1                              Supreme Court of Alabama.\n",
              "2                                                  ADAMS\n",
              "3                                                     v.\n",
              "4                                     TANNER AND HORTON.\n",
              "                             ...                        \n",
              "215              There are no Filings for this citation.\n",
              "216                                   Negative Treatment\n",
              "217    There are no Negative Treatment results for th...\n",
              "218                                              History\n",
              "219      There are no History results for this citation.\n",
              "Name: 0, Length: 220, dtype: object"
            ]
          },
          "metadata": {
            "tags": []
          },
          "execution_count": 35
        }
      ]
    },
    {
      "cell_type": "code",
      "metadata": {
        "id": "7KRfpgVSZ6vC",
        "colab_type": "code",
        "outputId": "767bf95a-88dd-4123-8c9e-c50edce7b626",
        "colab": {
          "base_uri": "https://localhost:8080/",
          "height": 415
        }
      },
      "source": [
        "df['word_count'] = df[0].apply(lambda x: len(str(x).split(\" \")))\n",
        "df[[0,'word_count']]"
      ],
      "execution_count": 0,
      "outputs": [
        {
          "output_type": "execute_result",
          "data": {
            "text/html": [
              "<div>\n",
              "<style scoped>\n",
              "    .dataframe tbody tr th:only-of-type {\n",
              "        vertical-align: middle;\n",
              "    }\n",
              "\n",
              "    .dataframe tbody tr th {\n",
              "        vertical-align: top;\n",
              "    }\n",
              "\n",
              "    .dataframe thead th {\n",
              "        text-align: right;\n",
              "    }\n",
              "</style>\n",
              "<table border=\"1\" class=\"dataframe\">\n",
              "  <thead>\n",
              "    <tr style=\"text-align: right;\">\n",
              "      <th></th>\n",
              "      <th>0</th>\n",
              "      <th>word_count</th>\n",
              "    </tr>\n",
              "  </thead>\n",
              "  <tbody>\n",
              "    <tr>\n",
              "      <th>0</th>\n",
              "      <td>5 Ala. 740</td>\n",
              "      <td>3</td>\n",
              "    </tr>\n",
              "    <tr>\n",
              "      <th>1</th>\n",
              "      <td>Supreme Court of Alabama.</td>\n",
              "      <td>4</td>\n",
              "    </tr>\n",
              "    <tr>\n",
              "      <th>2</th>\n",
              "      <td>ADAMS</td>\n",
              "      <td>1</td>\n",
              "    </tr>\n",
              "    <tr>\n",
              "      <th>3</th>\n",
              "      <td>v.</td>\n",
              "      <td>1</td>\n",
              "    </tr>\n",
              "    <tr>\n",
              "      <th>4</th>\n",
              "      <td>TANNER AND HORTON.</td>\n",
              "      <td>3</td>\n",
              "    </tr>\n",
              "    <tr>\n",
              "      <th>...</th>\n",
              "      <td>...</td>\n",
              "      <td>...</td>\n",
              "    </tr>\n",
              "    <tr>\n",
              "      <th>215</th>\n",
              "      <td>There are no Filings for this citation.</td>\n",
              "      <td>7</td>\n",
              "    </tr>\n",
              "    <tr>\n",
              "      <th>216</th>\n",
              "      <td>Negative Treatment</td>\n",
              "      <td>2</td>\n",
              "    </tr>\n",
              "    <tr>\n",
              "      <th>217</th>\n",
              "      <td>There are no Negative Treatment results for th...</td>\n",
              "      <td>9</td>\n",
              "    </tr>\n",
              "    <tr>\n",
              "      <th>218</th>\n",
              "      <td>History</td>\n",
              "      <td>1</td>\n",
              "    </tr>\n",
              "    <tr>\n",
              "      <th>219</th>\n",
              "      <td>There are no History results for this citation.</td>\n",
              "      <td>8</td>\n",
              "    </tr>\n",
              "  </tbody>\n",
              "</table>\n",
              "<p>220 rows × 2 columns</p>\n",
              "</div>"
            ],
            "text/plain": [
              "                                                     0  word_count\n",
              "0                                           5 Ala. 740           3\n",
              "1                            Supreme Court of Alabama.           4\n",
              "2                                                ADAMS           1\n",
              "3                                                   v.           1\n",
              "4                                   TANNER AND HORTON.           3\n",
              "..                                                 ...         ...\n",
              "215            There are no Filings for this citation.           7\n",
              "216                                 Negative Treatment           2\n",
              "217  There are no Negative Treatment results for th...           9\n",
              "218                                            History           1\n",
              "219    There are no History results for this citation.           8\n",
              "\n",
              "[220 rows x 2 columns]"
            ]
          },
          "metadata": {
            "tags": []
          },
          "execution_count": 39
        }
      ]
    },
    {
      "cell_type": "code",
      "metadata": {
        "id": "Xx4bv6NscEmS",
        "colab_type": "code",
        "outputId": "9bffb918-67b2-47d3-9bc3-ebe4ff9548d6",
        "colab": {
          "base_uri": "https://localhost:8080/",
          "height": 415
        }
      },
      "source": [
        "df['char_count'] = df[0].str.len()\n",
        "df[[0,'char_count']]"
      ],
      "execution_count": 0,
      "outputs": [
        {
          "output_type": "execute_result",
          "data": {
            "text/html": [
              "<div>\n",
              "<style scoped>\n",
              "    .dataframe tbody tr th:only-of-type {\n",
              "        vertical-align: middle;\n",
              "    }\n",
              "\n",
              "    .dataframe tbody tr th {\n",
              "        vertical-align: top;\n",
              "    }\n",
              "\n",
              "    .dataframe thead th {\n",
              "        text-align: right;\n",
              "    }\n",
              "</style>\n",
              "<table border=\"1\" class=\"dataframe\">\n",
              "  <thead>\n",
              "    <tr style=\"text-align: right;\">\n",
              "      <th></th>\n",
              "      <th>0</th>\n",
              "      <th>char_count</th>\n",
              "    </tr>\n",
              "  </thead>\n",
              "  <tbody>\n",
              "    <tr>\n",
              "      <th>0</th>\n",
              "      <td>5 Ala. 740</td>\n",
              "      <td>10</td>\n",
              "    </tr>\n",
              "    <tr>\n",
              "      <th>1</th>\n",
              "      <td>Supreme Court of Alabama.</td>\n",
              "      <td>25</td>\n",
              "    </tr>\n",
              "    <tr>\n",
              "      <th>2</th>\n",
              "      <td>ADAMS</td>\n",
              "      <td>5</td>\n",
              "    </tr>\n",
              "    <tr>\n",
              "      <th>3</th>\n",
              "      <td>v.</td>\n",
              "      <td>2</td>\n",
              "    </tr>\n",
              "    <tr>\n",
              "      <th>4</th>\n",
              "      <td>TANNER AND HORTON.</td>\n",
              "      <td>18</td>\n",
              "    </tr>\n",
              "    <tr>\n",
              "      <th>...</th>\n",
              "      <td>...</td>\n",
              "      <td>...</td>\n",
              "    </tr>\n",
              "    <tr>\n",
              "      <th>215</th>\n",
              "      <td>There are no Filings for this citation.</td>\n",
              "      <td>39</td>\n",
              "    </tr>\n",
              "    <tr>\n",
              "      <th>216</th>\n",
              "      <td>Negative Treatment</td>\n",
              "      <td>18</td>\n",
              "    </tr>\n",
              "    <tr>\n",
              "      <th>217</th>\n",
              "      <td>There are no Negative Treatment results for th...</td>\n",
              "      <td>58</td>\n",
              "    </tr>\n",
              "    <tr>\n",
              "      <th>218</th>\n",
              "      <td>History</td>\n",
              "      <td>7</td>\n",
              "    </tr>\n",
              "    <tr>\n",
              "      <th>219</th>\n",
              "      <td>There are no History results for this citation.</td>\n",
              "      <td>47</td>\n",
              "    </tr>\n",
              "  </tbody>\n",
              "</table>\n",
              "<p>220 rows × 2 columns</p>\n",
              "</div>"
            ],
            "text/plain": [
              "                                                     0  char_count\n",
              "0                                           5 Ala. 740          10\n",
              "1                            Supreme Court of Alabama.          25\n",
              "2                                                ADAMS           5\n",
              "3                                                   v.           2\n",
              "4                                   TANNER AND HORTON.          18\n",
              "..                                                 ...         ...\n",
              "215            There are no Filings for this citation.          39\n",
              "216                                 Negative Treatment          18\n",
              "217  There are no Negative Treatment results for th...          58\n",
              "218                                            History           7\n",
              "219    There are no History results for this citation.          47\n",
              "\n",
              "[220 rows x 2 columns]"
            ]
          },
          "metadata": {
            "tags": []
          },
          "execution_count": 40
        }
      ]
    },
    {
      "cell_type": "code",
      "metadata": {
        "id": "BpZFkky9cyLB",
        "colab_type": "code",
        "outputId": "07b67ba3-e661-479c-b93a-79ee25f027d5",
        "colab": {
          "base_uri": "https://localhost:8080/",
          "height": 415
        }
      },
      "source": [
        "def avg_word(sentence):\n",
        "  words = sentence.split()\n",
        "  return (sum(len(word) for word in words)/len(words))\n",
        "\n",
        "df['avg_word'] = df[0].apply(lambda x: avg_word(x))\n",
        "df[[0,'avg_word']]"
      ],
      "execution_count": 0,
      "outputs": [
        {
          "output_type": "execute_result",
          "data": {
            "text/html": [
              "<div>\n",
              "<style scoped>\n",
              "    .dataframe tbody tr th:only-of-type {\n",
              "        vertical-align: middle;\n",
              "    }\n",
              "\n",
              "    .dataframe tbody tr th {\n",
              "        vertical-align: top;\n",
              "    }\n",
              "\n",
              "    .dataframe thead th {\n",
              "        text-align: right;\n",
              "    }\n",
              "</style>\n",
              "<table border=\"1\" class=\"dataframe\">\n",
              "  <thead>\n",
              "    <tr style=\"text-align: right;\">\n",
              "      <th></th>\n",
              "      <th>0</th>\n",
              "      <th>avg_word</th>\n",
              "    </tr>\n",
              "  </thead>\n",
              "  <tbody>\n",
              "    <tr>\n",
              "      <th>0</th>\n",
              "      <td>5 Ala. 740</td>\n",
              "      <td>2.666667</td>\n",
              "    </tr>\n",
              "    <tr>\n",
              "      <th>1</th>\n",
              "      <td>Supreme Court of Alabama.</td>\n",
              "      <td>5.500000</td>\n",
              "    </tr>\n",
              "    <tr>\n",
              "      <th>2</th>\n",
              "      <td>ADAMS</td>\n",
              "      <td>5.000000</td>\n",
              "    </tr>\n",
              "    <tr>\n",
              "      <th>3</th>\n",
              "      <td>v.</td>\n",
              "      <td>2.000000</td>\n",
              "    </tr>\n",
              "    <tr>\n",
              "      <th>4</th>\n",
              "      <td>TANNER AND HORTON.</td>\n",
              "      <td>5.333333</td>\n",
              "    </tr>\n",
              "    <tr>\n",
              "      <th>...</th>\n",
              "      <td>...</td>\n",
              "      <td>...</td>\n",
              "    </tr>\n",
              "    <tr>\n",
              "      <th>215</th>\n",
              "      <td>There are no Filings for this citation.</td>\n",
              "      <td>4.714286</td>\n",
              "    </tr>\n",
              "    <tr>\n",
              "      <th>216</th>\n",
              "      <td>Negative Treatment</td>\n",
              "      <td>8.500000</td>\n",
              "    </tr>\n",
              "    <tr>\n",
              "      <th>217</th>\n",
              "      <td>There are no Negative Treatment results for th...</td>\n",
              "      <td>5.555556</td>\n",
              "    </tr>\n",
              "    <tr>\n",
              "      <th>218</th>\n",
              "      <td>History</td>\n",
              "      <td>7.000000</td>\n",
              "    </tr>\n",
              "    <tr>\n",
              "      <th>219</th>\n",
              "      <td>There are no History results for this citation.</td>\n",
              "      <td>5.000000</td>\n",
              "    </tr>\n",
              "  </tbody>\n",
              "</table>\n",
              "<p>220 rows × 2 columns</p>\n",
              "</div>"
            ],
            "text/plain": [
              "                                                     0  avg_word\n",
              "0                                           5 Ala. 740  2.666667\n",
              "1                            Supreme Court of Alabama.  5.500000\n",
              "2                                                ADAMS  5.000000\n",
              "3                                                   v.  2.000000\n",
              "4                                   TANNER AND HORTON.  5.333333\n",
              "..                                                 ...       ...\n",
              "215            There are no Filings for this citation.  4.714286\n",
              "216                                 Negative Treatment  8.500000\n",
              "217  There are no Negative Treatment results for th...  5.555556\n",
              "218                                            History  7.000000\n",
              "219    There are no History results for this citation.  5.000000\n",
              "\n",
              "[220 rows x 2 columns]"
            ]
          },
          "metadata": {
            "tags": []
          },
          "execution_count": 49
        }
      ]
    },
    {
      "cell_type": "code",
      "metadata": {
        "id": "qLCfsRmCfen-",
        "colab_type": "code",
        "outputId": "686a7125-209c-4970-98c0-a8bb6618f8a3",
        "colab": {
          "base_uri": "https://localhost:8080/",
          "height": 450
        }
      },
      "source": [
        "from nltk.corpus import stopwords\n",
        "import nltk\n",
        "nltk.download('stopwords')\n",
        "stop = stopwords.words('english')\n",
        "df['stopwords'] = df[0].apply(lambda x: len([x for x in x.split() if x in stop]))\n",
        "df[[0,'stopwords']]"
      ],
      "execution_count": 0,
      "outputs": [
        {
          "output_type": "stream",
          "text": [
            "[nltk_data] Downloading package stopwords to /root/nltk_data...\n",
            "[nltk_data]   Package stopwords is already up-to-date!\n"
          ],
          "name": "stdout"
        },
        {
          "output_type": "execute_result",
          "data": {
            "text/html": [
              "<div>\n",
              "<style scoped>\n",
              "    .dataframe tbody tr th:only-of-type {\n",
              "        vertical-align: middle;\n",
              "    }\n",
              "\n",
              "    .dataframe tbody tr th {\n",
              "        vertical-align: top;\n",
              "    }\n",
              "\n",
              "    .dataframe thead th {\n",
              "        text-align: right;\n",
              "    }\n",
              "</style>\n",
              "<table border=\"1\" class=\"dataframe\">\n",
              "  <thead>\n",
              "    <tr style=\"text-align: right;\">\n",
              "      <th></th>\n",
              "      <th>0</th>\n",
              "      <th>stopwords</th>\n",
              "    </tr>\n",
              "  </thead>\n",
              "  <tbody>\n",
              "    <tr>\n",
              "      <th>0</th>\n",
              "      <td>5 Ala. 740</td>\n",
              "      <td>0</td>\n",
              "    </tr>\n",
              "    <tr>\n",
              "      <th>1</th>\n",
              "      <td>Supreme Court of Alabama.</td>\n",
              "      <td>1</td>\n",
              "    </tr>\n",
              "    <tr>\n",
              "      <th>2</th>\n",
              "      <td>ADAMS</td>\n",
              "      <td>0</td>\n",
              "    </tr>\n",
              "    <tr>\n",
              "      <th>3</th>\n",
              "      <td>v.</td>\n",
              "      <td>0</td>\n",
              "    </tr>\n",
              "    <tr>\n",
              "      <th>4</th>\n",
              "      <td>TANNER AND HORTON.</td>\n",
              "      <td>0</td>\n",
              "    </tr>\n",
              "    <tr>\n",
              "      <th>...</th>\n",
              "      <td>...</td>\n",
              "      <td>...</td>\n",
              "    </tr>\n",
              "    <tr>\n",
              "      <th>215</th>\n",
              "      <td>There are no Filings for this citation.</td>\n",
              "      <td>4</td>\n",
              "    </tr>\n",
              "    <tr>\n",
              "      <th>216</th>\n",
              "      <td>Negative Treatment</td>\n",
              "      <td>0</td>\n",
              "    </tr>\n",
              "    <tr>\n",
              "      <th>217</th>\n",
              "      <td>There are no Negative Treatment results for th...</td>\n",
              "      <td>4</td>\n",
              "    </tr>\n",
              "    <tr>\n",
              "      <th>218</th>\n",
              "      <td>History</td>\n",
              "      <td>0</td>\n",
              "    </tr>\n",
              "    <tr>\n",
              "      <th>219</th>\n",
              "      <td>There are no History results for this citation.</td>\n",
              "      <td>4</td>\n",
              "    </tr>\n",
              "  </tbody>\n",
              "</table>\n",
              "<p>220 rows × 2 columns</p>\n",
              "</div>"
            ],
            "text/plain": [
              "                                                     0  stopwords\n",
              "0                                           5 Ala. 740          0\n",
              "1                            Supreme Court of Alabama.          1\n",
              "2                                                ADAMS          0\n",
              "3                                                   v.          0\n",
              "4                                   TANNER AND HORTON.          0\n",
              "..                                                 ...        ...\n",
              "215            There are no Filings for this citation.          4\n",
              "216                                 Negative Treatment          0\n",
              "217  There are no Negative Treatment results for th...          4\n",
              "218                                            History          0\n",
              "219    There are no History results for this citation.          4\n",
              "\n",
              "[220 rows x 2 columns]"
            ]
          },
          "metadata": {
            "tags": []
          },
          "execution_count": 51
        }
      ]
    },
    {
      "cell_type": "code",
      "metadata": {
        "id": "EU2CEA98iIUR",
        "colab_type": "code",
        "outputId": "762ac4a2-ffa5-4d7b-a06c-08dbe7f6c95e",
        "colab": {
          "base_uri": "https://localhost:8080/",
          "height": 415
        }
      },
      "source": [
        "import re\n",
        "df['specialcharecters'] = df[0].apply(lambda x: len([x for x in x.split() if x in re.sub('[\\w]+' ,'', x)]))\n",
        "df[[0,'specialcharecters']]"
      ],
      "execution_count": 0,
      "outputs": [
        {
          "output_type": "execute_result",
          "data": {
            "text/html": [
              "<div>\n",
              "<style scoped>\n",
              "    .dataframe tbody tr th:only-of-type {\n",
              "        vertical-align: middle;\n",
              "    }\n",
              "\n",
              "    .dataframe tbody tr th {\n",
              "        vertical-align: top;\n",
              "    }\n",
              "\n",
              "    .dataframe thead th {\n",
              "        text-align: right;\n",
              "    }\n",
              "</style>\n",
              "<table border=\"1\" class=\"dataframe\">\n",
              "  <thead>\n",
              "    <tr style=\"text-align: right;\">\n",
              "      <th></th>\n",
              "      <th>0</th>\n",
              "      <th>specialcharecters</th>\n",
              "    </tr>\n",
              "  </thead>\n",
              "  <tbody>\n",
              "    <tr>\n",
              "      <th>0</th>\n",
              "      <td>5 Ala. 740</td>\n",
              "      <td>0</td>\n",
              "    </tr>\n",
              "    <tr>\n",
              "      <th>1</th>\n",
              "      <td>Supreme Court of Alabama.</td>\n",
              "      <td>0</td>\n",
              "    </tr>\n",
              "    <tr>\n",
              "      <th>2</th>\n",
              "      <td>ADAMS</td>\n",
              "      <td>0</td>\n",
              "    </tr>\n",
              "    <tr>\n",
              "      <th>3</th>\n",
              "      <td>v.</td>\n",
              "      <td>0</td>\n",
              "    </tr>\n",
              "    <tr>\n",
              "      <th>4</th>\n",
              "      <td>TANNER AND HORTON.</td>\n",
              "      <td>0</td>\n",
              "    </tr>\n",
              "    <tr>\n",
              "      <th>...</th>\n",
              "      <td>...</td>\n",
              "      <td>...</td>\n",
              "    </tr>\n",
              "    <tr>\n",
              "      <th>215</th>\n",
              "      <td>There are no Filings for this citation.</td>\n",
              "      <td>0</td>\n",
              "    </tr>\n",
              "    <tr>\n",
              "      <th>216</th>\n",
              "      <td>Negative Treatment</td>\n",
              "      <td>0</td>\n",
              "    </tr>\n",
              "    <tr>\n",
              "      <th>217</th>\n",
              "      <td>There are no Negative Treatment results for th...</td>\n",
              "      <td>0</td>\n",
              "    </tr>\n",
              "    <tr>\n",
              "      <th>218</th>\n",
              "      <td>History</td>\n",
              "      <td>0</td>\n",
              "    </tr>\n",
              "    <tr>\n",
              "      <th>219</th>\n",
              "      <td>There are no History results for this citation.</td>\n",
              "      <td>0</td>\n",
              "    </tr>\n",
              "  </tbody>\n",
              "</table>\n",
              "<p>220 rows × 2 columns</p>\n",
              "</div>"
            ],
            "text/plain": [
              "                                                     0  specialcharecters\n",
              "0                                           5 Ala. 740                  0\n",
              "1                            Supreme Court of Alabama.                  0\n",
              "2                                                ADAMS                  0\n",
              "3                                                   v.                  0\n",
              "4                                   TANNER AND HORTON.                  0\n",
              "..                                                 ...                ...\n",
              "215            There are no Filings for this citation.                  0\n",
              "216                                 Negative Treatment                  0\n",
              "217  There are no Negative Treatment results for th...                  0\n",
              "218                                            History                  0\n",
              "219    There are no History results for this citation.                  0\n",
              "\n",
              "[220 rows x 2 columns]"
            ]
          },
          "metadata": {
            "tags": []
          },
          "execution_count": 52
        }
      ]
    },
    {
      "cell_type": "code",
      "metadata": {
        "id": "0eQS113zlAYR",
        "colab_type": "code",
        "outputId": "1f918f01-9461-475e-eb50-3c28a95c5982",
        "colab": {
          "base_uri": "https://localhost:8080/",
          "height": 415
        }
      },
      "source": [
        "df['numerics'] = df[0].apply(lambda x: len([x for x in x.split() if x.isdigit()]))\n",
        "df[[0,'numerics']]"
      ],
      "execution_count": 0,
      "outputs": [
        {
          "output_type": "execute_result",
          "data": {
            "text/html": [
              "<div>\n",
              "<style scoped>\n",
              "    .dataframe tbody tr th:only-of-type {\n",
              "        vertical-align: middle;\n",
              "    }\n",
              "\n",
              "    .dataframe tbody tr th {\n",
              "        vertical-align: top;\n",
              "    }\n",
              "\n",
              "    .dataframe thead th {\n",
              "        text-align: right;\n",
              "    }\n",
              "</style>\n",
              "<table border=\"1\" class=\"dataframe\">\n",
              "  <thead>\n",
              "    <tr style=\"text-align: right;\">\n",
              "      <th></th>\n",
              "      <th>0</th>\n",
              "      <th>numerics</th>\n",
              "    </tr>\n",
              "  </thead>\n",
              "  <tbody>\n",
              "    <tr>\n",
              "      <th>0</th>\n",
              "      <td>5 Ala. 740</td>\n",
              "      <td>2</td>\n",
              "    </tr>\n",
              "    <tr>\n",
              "      <th>1</th>\n",
              "      <td>Supreme Court of Alabama.</td>\n",
              "      <td>0</td>\n",
              "    </tr>\n",
              "    <tr>\n",
              "      <th>2</th>\n",
              "      <td>ADAMS</td>\n",
              "      <td>0</td>\n",
              "    </tr>\n",
              "    <tr>\n",
              "      <th>3</th>\n",
              "      <td>v.</td>\n",
              "      <td>0</td>\n",
              "    </tr>\n",
              "    <tr>\n",
              "      <th>4</th>\n",
              "      <td>TANNER AND HORTON.</td>\n",
              "      <td>0</td>\n",
              "    </tr>\n",
              "    <tr>\n",
              "      <th>...</th>\n",
              "      <td>...</td>\n",
              "      <td>...</td>\n",
              "    </tr>\n",
              "    <tr>\n",
              "      <th>215</th>\n",
              "      <td>There are no Filings for this citation.</td>\n",
              "      <td>0</td>\n",
              "    </tr>\n",
              "    <tr>\n",
              "      <th>216</th>\n",
              "      <td>Negative Treatment</td>\n",
              "      <td>0</td>\n",
              "    </tr>\n",
              "    <tr>\n",
              "      <th>217</th>\n",
              "      <td>There are no Negative Treatment results for th...</td>\n",
              "      <td>0</td>\n",
              "    </tr>\n",
              "    <tr>\n",
              "      <th>218</th>\n",
              "      <td>History</td>\n",
              "      <td>0</td>\n",
              "    </tr>\n",
              "    <tr>\n",
              "      <th>219</th>\n",
              "      <td>There are no History results for this citation.</td>\n",
              "      <td>0</td>\n",
              "    </tr>\n",
              "  </tbody>\n",
              "</table>\n",
              "<p>220 rows × 2 columns</p>\n",
              "</div>"
            ],
            "text/plain": [
              "                                                     0  numerics\n",
              "0                                           5 Ala. 740         2\n",
              "1                            Supreme Court of Alabama.         0\n",
              "2                                                ADAMS         0\n",
              "3                                                   v.         0\n",
              "4                                   TANNER AND HORTON.         0\n",
              "..                                                 ...       ...\n",
              "215            There are no Filings for this citation.         0\n",
              "216                                 Negative Treatment         0\n",
              "217  There are no Negative Treatment results for th...         0\n",
              "218                                            History         0\n",
              "219    There are no History results for this citation.         0\n",
              "\n",
              "[220 rows x 2 columns]"
            ]
          },
          "metadata": {
            "tags": []
          },
          "execution_count": 53
        }
      ]
    },
    {
      "cell_type": "code",
      "metadata": {
        "id": "TLt9hvMpl0hH",
        "colab_type": "code",
        "outputId": "e4f20658-be18-4add-aecb-8e3499fdc984",
        "colab": {
          "base_uri": "https://localhost:8080/",
          "height": 415
        }
      },
      "source": [
        "df['upper'] = df[0].apply(lambda x: len([x for x in x.split() if x.isupper()]))\n",
        "df[[0,'upper']]"
      ],
      "execution_count": 0,
      "outputs": [
        {
          "output_type": "execute_result",
          "data": {
            "text/html": [
              "<div>\n",
              "<style scoped>\n",
              "    .dataframe tbody tr th:only-of-type {\n",
              "        vertical-align: middle;\n",
              "    }\n",
              "\n",
              "    .dataframe tbody tr th {\n",
              "        vertical-align: top;\n",
              "    }\n",
              "\n",
              "    .dataframe thead th {\n",
              "        text-align: right;\n",
              "    }\n",
              "</style>\n",
              "<table border=\"1\" class=\"dataframe\">\n",
              "  <thead>\n",
              "    <tr style=\"text-align: right;\">\n",
              "      <th></th>\n",
              "      <th>0</th>\n",
              "      <th>upper</th>\n",
              "    </tr>\n",
              "  </thead>\n",
              "  <tbody>\n",
              "    <tr>\n",
              "      <th>0</th>\n",
              "      <td>5 Ala. 740</td>\n",
              "      <td>0</td>\n",
              "    </tr>\n",
              "    <tr>\n",
              "      <th>1</th>\n",
              "      <td>Supreme Court of Alabama.</td>\n",
              "      <td>0</td>\n",
              "    </tr>\n",
              "    <tr>\n",
              "      <th>2</th>\n",
              "      <td>ADAMS</td>\n",
              "      <td>1</td>\n",
              "    </tr>\n",
              "    <tr>\n",
              "      <th>3</th>\n",
              "      <td>v.</td>\n",
              "      <td>0</td>\n",
              "    </tr>\n",
              "    <tr>\n",
              "      <th>4</th>\n",
              "      <td>TANNER AND HORTON.</td>\n",
              "      <td>3</td>\n",
              "    </tr>\n",
              "    <tr>\n",
              "      <th>...</th>\n",
              "      <td>...</td>\n",
              "      <td>...</td>\n",
              "    </tr>\n",
              "    <tr>\n",
              "      <th>215</th>\n",
              "      <td>There are no Filings for this citation.</td>\n",
              "      <td>0</td>\n",
              "    </tr>\n",
              "    <tr>\n",
              "      <th>216</th>\n",
              "      <td>Negative Treatment</td>\n",
              "      <td>0</td>\n",
              "    </tr>\n",
              "    <tr>\n",
              "      <th>217</th>\n",
              "      <td>There are no Negative Treatment results for th...</td>\n",
              "      <td>0</td>\n",
              "    </tr>\n",
              "    <tr>\n",
              "      <th>218</th>\n",
              "      <td>History</td>\n",
              "      <td>0</td>\n",
              "    </tr>\n",
              "    <tr>\n",
              "      <th>219</th>\n",
              "      <td>There are no History results for this citation.</td>\n",
              "      <td>0</td>\n",
              "    </tr>\n",
              "  </tbody>\n",
              "</table>\n",
              "<p>220 rows × 2 columns</p>\n",
              "</div>"
            ],
            "text/plain": [
              "                                                     0  upper\n",
              "0                                           5 Ala. 740      0\n",
              "1                            Supreme Court of Alabama.      0\n",
              "2                                                ADAMS      1\n",
              "3                                                   v.      0\n",
              "4                                   TANNER AND HORTON.      3\n",
              "..                                                 ...    ...\n",
              "215            There are no Filings for this citation.      0\n",
              "216                                 Negative Treatment      0\n",
              "217  There are no Negative Treatment results for th...      0\n",
              "218                                            History      0\n",
              "219    There are no History results for this citation.      0\n",
              "\n",
              "[220 rows x 2 columns]"
            ]
          },
          "metadata": {
            "tags": []
          },
          "execution_count": 55
        }
      ]
    },
    {
      "cell_type": "code",
      "metadata": {
        "id": "doyHmVWkm0wj",
        "colab_type": "code",
        "outputId": "e8d73ec7-2083-4cc0-bd33-53ec9fa3c1da",
        "colab": {
          "base_uri": "https://localhost:8080/",
          "height": 225
        }
      },
      "source": [
        "df[0] = df[0].apply(lambda x: \" \".join(x.lower() for x in x.split()))\n",
        "df[0]"
      ],
      "execution_count": 0,
      "outputs": [
        {
          "output_type": "execute_result",
          "data": {
            "text/plain": [
              "0                                             5 ala. 740\n",
              "1                              supreme court of alabama.\n",
              "2                                                  adams\n",
              "3                                                     v.\n",
              "4                                     tanner and horton.\n",
              "                             ...                        \n",
              "215              there are no filings for this citation.\n",
              "216                                   negative treatment\n",
              "217    there are no negative treatment results for th...\n",
              "218                                              history\n",
              "219      there are no history results for this citation.\n",
              "Name: 0, Length: 220, dtype: object"
            ]
          },
          "metadata": {
            "tags": []
          },
          "execution_count": 56
        }
      ]
    },
    {
      "cell_type": "code",
      "metadata": {
        "id": "hkRuKy1wn7eq",
        "colab_type": "code",
        "outputId": "eadec8cf-c383-4857-fb62-34d11e841171",
        "colab": {
          "base_uri": "https://localhost:8080/",
          "height": 415
        }
      },
      "source": [
        "import string\n",
        "df['after_removing_punctuation'] = df[0].apply(lambda x:''.join([i for i in x if i not in string.punctuation]))\n",
        "df[[0,'after_removing_punctuation']]"
      ],
      "execution_count": 0,
      "outputs": [
        {
          "output_type": "execute_result",
          "data": {
            "text/html": [
              "<div>\n",
              "<style scoped>\n",
              "    .dataframe tbody tr th:only-of-type {\n",
              "        vertical-align: middle;\n",
              "    }\n",
              "\n",
              "    .dataframe tbody tr th {\n",
              "        vertical-align: top;\n",
              "    }\n",
              "\n",
              "    .dataframe thead th {\n",
              "        text-align: right;\n",
              "    }\n",
              "</style>\n",
              "<table border=\"1\" class=\"dataframe\">\n",
              "  <thead>\n",
              "    <tr style=\"text-align: right;\">\n",
              "      <th></th>\n",
              "      <th>0</th>\n",
              "      <th>after_removing_punctuation</th>\n",
              "    </tr>\n",
              "  </thead>\n",
              "  <tbody>\n",
              "    <tr>\n",
              "      <th>0</th>\n",
              "      <td>5 ala. 740</td>\n",
              "      <td>5 ala 740</td>\n",
              "    </tr>\n",
              "    <tr>\n",
              "      <th>1</th>\n",
              "      <td>supreme court of alabama.</td>\n",
              "      <td>supreme court of alabama</td>\n",
              "    </tr>\n",
              "    <tr>\n",
              "      <th>2</th>\n",
              "      <td>adams</td>\n",
              "      <td>adams</td>\n",
              "    </tr>\n",
              "    <tr>\n",
              "      <th>3</th>\n",
              "      <td>v.</td>\n",
              "      <td>v</td>\n",
              "    </tr>\n",
              "    <tr>\n",
              "      <th>4</th>\n",
              "      <td>tanner and horton.</td>\n",
              "      <td>tanner and horton</td>\n",
              "    </tr>\n",
              "    <tr>\n",
              "      <th>...</th>\n",
              "      <td>...</td>\n",
              "      <td>...</td>\n",
              "    </tr>\n",
              "    <tr>\n",
              "      <th>215</th>\n",
              "      <td>there are no filings for this citation.</td>\n",
              "      <td>there are no filings for this citation</td>\n",
              "    </tr>\n",
              "    <tr>\n",
              "      <th>216</th>\n",
              "      <td>negative treatment</td>\n",
              "      <td>negative treatment</td>\n",
              "    </tr>\n",
              "    <tr>\n",
              "      <th>217</th>\n",
              "      <td>there are no negative treatment results for th...</td>\n",
              "      <td>there are no negative treatment results for th...</td>\n",
              "    </tr>\n",
              "    <tr>\n",
              "      <th>218</th>\n",
              "      <td>history</td>\n",
              "      <td>history</td>\n",
              "    </tr>\n",
              "    <tr>\n",
              "      <th>219</th>\n",
              "      <td>there are no history results for this citation.</td>\n",
              "      <td>there are no history results for this citation</td>\n",
              "    </tr>\n",
              "  </tbody>\n",
              "</table>\n",
              "<p>220 rows × 2 columns</p>\n",
              "</div>"
            ],
            "text/plain": [
              "                                                     0                         after_removing_punctuation\n",
              "0                                           5 ala. 740                                          5 ala 740\n",
              "1                            supreme court of alabama.                           supreme court of alabama\n",
              "2                                                adams                                              adams\n",
              "3                                                   v.                                                  v\n",
              "4                                   tanner and horton.                                  tanner and horton\n",
              "..                                                 ...                                                ...\n",
              "215            there are no filings for this citation.             there are no filings for this citation\n",
              "216                                 negative treatment                                 negative treatment\n",
              "217  there are no negative treatment results for th...  there are no negative treatment results for th...\n",
              "218                                            history                                            history\n",
              "219    there are no history results for this citation.     there are no history results for this citation\n",
              "\n",
              "[220 rows x 2 columns]"
            ]
          },
          "metadata": {
            "tags": []
          },
          "execution_count": 57
        }
      ]
    },
    {
      "cell_type": "code",
      "metadata": {
        "id": "Qw_ZHfZbqdTf",
        "colab_type": "code",
        "outputId": "fffc79e0-e1c3-4d33-bece-80500e018c11",
        "colab": {
          "base_uri": "https://localhost:8080/",
          "height": 225
        }
      },
      "source": [
        "from nltk.corpus import stopwords\n",
        "stop = stopwords.words('english')\n",
        "df['after_removing_stop_words'] = df['after_removing_punctuation'].apply(lambda x: \" \".join(x for x in x.split() if x not in stop))\n",
        "df['after_removing_stop_words']\n"
      ],
      "execution_count": 0,
      "outputs": [
        {
          "output_type": "execute_result",
          "data": {
            "text/plain": [
              "0                                5 ala 740\n",
              "1                    supreme court alabama\n",
              "2                                    adams\n",
              "3                                        v\n",
              "4                            tanner horton\n",
              "                      ...                 \n",
              "215                       filings citation\n",
              "216                     negative treatment\n",
              "217    negative treatment results citation\n",
              "218                                history\n",
              "219               history results citation\n",
              "Name: after_removing_stop_words, Length: 220, dtype: object"
            ]
          },
          "metadata": {
            "tags": []
          },
          "execution_count": 71
        }
      ]
    },
    {
      "cell_type": "code",
      "metadata": {
        "id": "hkDMXtzpsLNS",
        "colab_type": "code",
        "outputId": "08531bf6-36ea-4c92-8a81-9df8ddaf219a",
        "colab": {
          "base_uri": "https://localhost:8080/",
          "height": 415
        }
      },
      "source": [
        "freq = pd.Series(' '.join(df['after_removing_stop_words']).split()).value_counts()[:10]\n",
        "freq = list(freq.index)\n",
        "df['common_words'] = df['after_removing_stop_words'].apply(lambda x: \" \".join(x for x in x.split() if x not in freq))\n",
        "df[['common_words']]"
      ],
      "execution_count": 0,
      "outputs": [
        {
          "output_type": "execute_result",
          "data": {
            "text/html": [
              "<div>\n",
              "<style scoped>\n",
              "    .dataframe tbody tr th:only-of-type {\n",
              "        vertical-align: middle;\n",
              "    }\n",
              "\n",
              "    .dataframe tbody tr th {\n",
              "        vertical-align: top;\n",
              "    }\n",
              "\n",
              "    .dataframe thead th {\n",
              "        text-align: right;\n",
              "    }\n",
              "</style>\n",
              "<table border=\"1\" class=\"dataframe\">\n",
              "  <thead>\n",
              "    <tr style=\"text-align: right;\">\n",
              "      <th></th>\n",
              "      <th>common_words</th>\n",
              "    </tr>\n",
              "  </thead>\n",
              "  <tbody>\n",
              "    <tr>\n",
              "      <th>0</th>\n",
              "      <td>5 ala 740</td>\n",
              "    </tr>\n",
              "    <tr>\n",
              "      <th>1</th>\n",
              "      <td>supreme alabama</td>\n",
              "    </tr>\n",
              "    <tr>\n",
              "      <th>2</th>\n",
              "      <td>adams</td>\n",
              "    </tr>\n",
              "    <tr>\n",
              "      <th>3</th>\n",
              "      <td></td>\n",
              "    </tr>\n",
              "    <tr>\n",
              "      <th>4</th>\n",
              "      <td>tanner horton</td>\n",
              "    </tr>\n",
              "    <tr>\n",
              "      <th>...</th>\n",
              "      <td>...</td>\n",
              "    </tr>\n",
              "    <tr>\n",
              "      <th>215</th>\n",
              "      <td>filings citation</td>\n",
              "    </tr>\n",
              "    <tr>\n",
              "      <th>216</th>\n",
              "      <td>negative treatment</td>\n",
              "    </tr>\n",
              "    <tr>\n",
              "      <th>217</th>\n",
              "      <td>negative treatment results citation</td>\n",
              "    </tr>\n",
              "    <tr>\n",
              "      <th>218</th>\n",
              "      <td>history</td>\n",
              "    </tr>\n",
              "    <tr>\n",
              "      <th>219</th>\n",
              "      <td>history results citation</td>\n",
              "    </tr>\n",
              "  </tbody>\n",
              "</table>\n",
              "<p>220 rows × 1 columns</p>\n",
              "</div>"
            ],
            "text/plain": [
              "                            common_words\n",
              "0                              5 ala 740\n",
              "1                        supreme alabama\n",
              "2                                  adams\n",
              "3                                       \n",
              "4                          tanner horton\n",
              "..                                   ...\n",
              "215                     filings citation\n",
              "216                   negative treatment\n",
              "217  negative treatment results citation\n",
              "218                              history\n",
              "219             history results citation\n",
              "\n",
              "[220 rows x 1 columns]"
            ]
          },
          "metadata": {
            "tags": []
          },
          "execution_count": 78
        }
      ]
    },
    {
      "cell_type": "code",
      "metadata": {
        "id": "FQu7WJmCyKO6",
        "colab_type": "code",
        "outputId": "f71166a9-738a-4a59-854c-3efea772208f",
        "colab": {
          "base_uri": "https://localhost:8080/",
          "height": 225
        }
      },
      "source": [
        "rare = pd.Series(' '.join(df['common_words']).split()).value_counts()[-10:]\n",
        "rare = list(rare.index)\n",
        "df['rare_words'] = df['common_words'].apply(lambda x: \" \".join(x for x in x.split() if x not in rare))\n",
        "df['rare_words']"
      ],
      "execution_count": 0,
      "outputs": [
        {
          "output_type": "execute_result",
          "data": {
            "text/plain": [
              "0                                5 ala 740\n",
              "1                          supreme alabama\n",
              "2                                    adams\n",
              "3                                         \n",
              "4                            tanner horton\n",
              "                      ...                 \n",
              "215                       filings citation\n",
              "216                     negative treatment\n",
              "217    negative treatment results citation\n",
              "218                                history\n",
              "219               history results citation\n",
              "Name: rare_words, Length: 220, dtype: object"
            ]
          },
          "metadata": {
            "tags": []
          },
          "execution_count": 83
        }
      ]
    },
    {
      "cell_type": "code",
      "metadata": {
        "id": "Gla3tENd1ZGD",
        "colab_type": "code",
        "outputId": "b580ece9-9320-4cce-c32c-8914120377ac",
        "colab": {
          "base_uri": "https://localhost:8080/",
          "height": 89
        }
      },
      "source": [
        "!pip install TextBlob"
      ],
      "execution_count": 0,
      "outputs": [
        {
          "output_type": "stream",
          "text": [
            "Requirement already satisfied: TextBlob in /usr/local/lib/python3.6/dist-packages (0.15.3)\n",
            "Requirement already satisfied: nltk>=3.1 in /usr/local/lib/python3.6/dist-packages (from TextBlob) (3.2.5)\n",
            "Requirement already satisfied: six in /usr/local/lib/python3.6/dist-packages (from nltk>=3.1->TextBlob) (1.12.0)\n"
          ],
          "name": "stdout"
        }
      ]
    },
    {
      "cell_type": "code",
      "metadata": {
        "id": "MBCGfnZI3Bf-",
        "colab_type": "code",
        "outputId": "53a21a4a-e292-4ed6-9665-2ffd88e30374",
        "colab": {
          "base_uri": "https://localhost:8080/",
          "height": 295
        }
      },
      "source": [
        "from textblob import TextBlob\n",
        "df['rare_words'][ :15].apply(lambda x: str(TextBlob(x).correct()))"
      ],
      "execution_count": 0,
      "outputs": [
        {
          "output_type": "execute_result",
          "data": {
            "text/plain": [
              "0                                             5 all 740\n",
              "1                                       supreme alabama\n",
              "2                                                  adam\n",
              "3                                                      \n",
              "4                                         manner norton\n",
              "5                                        june term 1843\n",
              "6                                               sycosis\n",
              "7                             writ error circuit sumter\n",
              "8                                      west headnotes 2\n",
              "9                                                     1\n",
              "10                                     chattel mortgage\n",
              "11                                                 crop\n",
              "12    growing existence subjectmatter mortgage contr...\n",
              "13                                 4 case cite headnote\n",
              "14                                                    2\n",
              "Name: rare_words, dtype: object"
            ]
          },
          "metadata": {
            "tags": []
          },
          "execution_count": 107
        }
      ]
    },
    {
      "cell_type": "code",
      "metadata": {
        "id": "TCT8ipPO35Ff",
        "colab_type": "code",
        "outputId": "5aa70a17-fac4-4d6a-ed0a-78b7f3d36f16",
        "colab": {
          "base_uri": "https://localhost:8080/",
          "height": 69
        }
      },
      "source": [
        "import nltk\n",
        "nltk.download('punkt')\n",
        "TextBlob(df['rare_words'][219]).words"
      ],
      "execution_count": 0,
      "outputs": [
        {
          "output_type": "stream",
          "text": [
            "[nltk_data] Downloading package punkt to /root/nltk_data...\n",
            "[nltk_data]   Package punkt is already up-to-date!\n"
          ],
          "name": "stdout"
        },
        {
          "output_type": "execute_result",
          "data": {
            "text/plain": [
              "WordList(['history', 'results', 'citation'])"
            ]
          },
          "metadata": {
            "tags": []
          },
          "execution_count": 95
        }
      ]
    },
    {
      "cell_type": "code",
      "metadata": {
        "id": "Jq1bkaWb4pj2",
        "colab_type": "code",
        "outputId": "b07d228b-462b-4d92-c690-4a25444a1b3e",
        "colab": {
          "base_uri": "https://localhost:8080/",
          "height": 225
        }
      },
      "source": [
        "from nltk.stem import PorterStemmer\n",
        "st= PorterStemmer()\n",
        "df['rare_words'][:220].apply(lambda x: \" \".join([st.stem(word) for word in x.split()]))\n"
      ],
      "execution_count": 0,
      "outputs": [
        {
          "output_type": "execute_result",
          "data": {
            "text/plain": [
              "0                       5 ala 740\n",
              "1                  suprem alabama\n",
              "2                            adam\n",
              "3                                \n",
              "4                   tanner horton\n",
              "                  ...            \n",
              "215                    file citat\n",
              "216                 neg treatment\n",
              "217    neg treatment result citat\n",
              "218                       histori\n",
              "219          histori result citat\n",
              "Name: rare_words, Length: 220, dtype: object"
            ]
          },
          "metadata": {
            "tags": []
          },
          "execution_count": 98
        }
      ]
    },
    {
      "cell_type": "code",
      "metadata": {
        "id": "uzYmChfV6BML",
        "colab_type": "code",
        "outputId": "ce9d6cad-1ca3-4678-cb83-2b1e2ced7646",
        "colab": {
          "base_uri": "https://localhost:8080/",
          "height": 260
        }
      },
      "source": [
        "from textblob import Word\n",
        "import nltk\n",
        "nltk.download('wordnet')\n",
        "df['after_lemmatization'] = df['rare_words'].apply(lambda x: \" \".join([Word(word).lemmatize() for word in x.split()]))\n",
        "df['after_lemmatization']"
      ],
      "execution_count": 0,
      "outputs": [
        {
          "output_type": "stream",
          "text": [
            "[nltk_data] Downloading package wordnet to /root/nltk_data...\n",
            "[nltk_data]   Package wordnet is already up-to-date!\n"
          ],
          "name": "stdout"
        },
        {
          "output_type": "execute_result",
          "data": {
            "text/plain": [
              "0                               5 ala 740\n",
              "1                         supreme alabama\n",
              "2                                    adam\n",
              "3                                        \n",
              "4                           tanner horton\n",
              "                      ...                \n",
              "215                       filing citation\n",
              "216                    negative treatment\n",
              "217    negative treatment result citation\n",
              "218                               history\n",
              "219               history result citation\n",
              "Name: after_lemmatization, Length: 220, dtype: object"
            ]
          },
          "metadata": {
            "tags": []
          },
          "execution_count": 108
        }
      ]
    },
    {
      "cell_type": "code",
      "metadata": {
        "id": "lAojNmxFDr5t",
        "colab_type": "code",
        "colab": {}
      },
      "source": [
        "df.to_csv('/DataAfterCleaning.csv')"
      ],
      "execution_count": 0,
      "outputs": []
    },
    {
      "cell_type": "code",
      "metadata": {
        "id": "wii0PTJUDvqH",
        "colab_type": "code",
        "outputId": "e7f4494d-4eaf-46a7-bf33-cf2d7da9a2c7",
        "colab": {
          "base_uri": "https://localhost:8080/",
          "height": 601
        }
      },
      "source": [
        "tf1 = (df['rare_words'][1:10]).apply(lambda x: pd.value_counts(x.split(\" \"))).sum(axis = 0).reset_index()\n",
        "tf1.columns = ['words','tf']\n",
        "tf1"
      ],
      "execution_count": 0,
      "outputs": [
        {
          "output_type": "execute_result",
          "data": {
            "text/html": [
              "<div>\n",
              "<style scoped>\n",
              "    .dataframe tbody tr th:only-of-type {\n",
              "        vertical-align: middle;\n",
              "    }\n",
              "\n",
              "    .dataframe tbody tr th {\n",
              "        vertical-align: top;\n",
              "    }\n",
              "\n",
              "    .dataframe thead th {\n",
              "        text-align: right;\n",
              "    }\n",
              "</style>\n",
              "<table border=\"1\" class=\"dataframe\">\n",
              "  <thead>\n",
              "    <tr style=\"text-align: right;\">\n",
              "      <th></th>\n",
              "      <th>words</th>\n",
              "      <th>tf</th>\n",
              "    </tr>\n",
              "  </thead>\n",
              "  <tbody>\n",
              "    <tr>\n",
              "      <th>0</th>\n",
              "      <td>supreme</td>\n",
              "      <td>1.0</td>\n",
              "    </tr>\n",
              "    <tr>\n",
              "      <th>1</th>\n",
              "      <td>alabama</td>\n",
              "      <td>1.0</td>\n",
              "    </tr>\n",
              "    <tr>\n",
              "      <th>2</th>\n",
              "      <td>adam</td>\n",
              "      <td>1.0</td>\n",
              "    </tr>\n",
              "    <tr>\n",
              "      <th>3</th>\n",
              "      <td></td>\n",
              "      <td>1.0</td>\n",
              "    </tr>\n",
              "    <tr>\n",
              "      <th>4</th>\n",
              "      <td>tanner</td>\n",
              "      <td>1.0</td>\n",
              "    </tr>\n",
              "    <tr>\n",
              "      <th>5</th>\n",
              "      <td>horton</td>\n",
              "      <td>1.0</td>\n",
              "    </tr>\n",
              "    <tr>\n",
              "      <th>6</th>\n",
              "      <td>june</td>\n",
              "      <td>1.0</td>\n",
              "    </tr>\n",
              "    <tr>\n",
              "      <th>7</th>\n",
              "      <td>1843</td>\n",
              "      <td>1.0</td>\n",
              "    </tr>\n",
              "    <tr>\n",
              "      <th>8</th>\n",
              "      <td>term</td>\n",
              "      <td>1.0</td>\n",
              "    </tr>\n",
              "    <tr>\n",
              "      <th>9</th>\n",
              "      <td>synopsis</td>\n",
              "      <td>1.0</td>\n",
              "    </tr>\n",
              "    <tr>\n",
              "      <th>10</th>\n",
              "      <td>circuit</td>\n",
              "      <td>1.0</td>\n",
              "    </tr>\n",
              "    <tr>\n",
              "      <th>11</th>\n",
              "      <td>sumter</td>\n",
              "      <td>1.0</td>\n",
              "    </tr>\n",
              "    <tr>\n",
              "      <th>12</th>\n",
              "      <td>writ</td>\n",
              "      <td>1.0</td>\n",
              "    </tr>\n",
              "    <tr>\n",
              "      <th>13</th>\n",
              "      <td>error</td>\n",
              "      <td>1.0</td>\n",
              "    </tr>\n",
              "    <tr>\n",
              "      <th>14</th>\n",
              "      <td>headnotes</td>\n",
              "      <td>1.0</td>\n",
              "    </tr>\n",
              "    <tr>\n",
              "      <th>15</th>\n",
              "      <td>west</td>\n",
              "      <td>1.0</td>\n",
              "    </tr>\n",
              "    <tr>\n",
              "      <th>16</th>\n",
              "      <td>2</td>\n",
              "      <td>1.0</td>\n",
              "    </tr>\n",
              "    <tr>\n",
              "      <th>17</th>\n",
              "      <td>1</td>\n",
              "      <td>1.0</td>\n",
              "    </tr>\n",
              "  </tbody>\n",
              "</table>\n",
              "</div>"
            ],
            "text/plain": [
              "        words   tf\n",
              "0     supreme  1.0\n",
              "1     alabama  1.0\n",
              "2        adam  1.0\n",
              "3              1.0\n",
              "4      tanner  1.0\n",
              "5      horton  1.0\n",
              "6        june  1.0\n",
              "7        1843  1.0\n",
              "8        term  1.0\n",
              "9    synopsis  1.0\n",
              "10    circuit  1.0\n",
              "11     sumter  1.0\n",
              "12       writ  1.0\n",
              "13      error  1.0\n",
              "14  headnotes  1.0\n",
              "15       west  1.0\n",
              "16          2  1.0\n",
              "17          1  1.0"
            ]
          },
          "metadata": {
            "tags": []
          },
          "execution_count": 126
        }
      ]
    },
    {
      "cell_type": "code",
      "metadata": {
        "id": "CGSMiK2FD_Ap",
        "colab_type": "code",
        "outputId": "bfe6f7d3-45e9-4434-9cc6-08b64f49a589",
        "colab": {
          "base_uri": "https://localhost:8080/",
          "height": 35
        }
      },
      "source": [
        "TextBlob(df['rare_words'][10]).ngrams(1)"
      ],
      "execution_count": 0,
      "outputs": [
        {
          "output_type": "execute_result",
          "data": {
            "text/plain": [
              "[WordList(['chattel']), WordList(['mortgage'])]"
            ]
          },
          "metadata": {
            "tags": []
          },
          "execution_count": 140
        }
      ]
    },
    {
      "cell_type": "code",
      "metadata": {
        "id": "Hh1WyeaKEAN7",
        "colab_type": "code",
        "outputId": "368b9781-35bb-4595-af6a-1f34fcfa2033",
        "colab": {
          "base_uri": "https://localhost:8080/",
          "height": 35
        }
      },
      "source": [
        "TextBlob(df['rare_words'][10]).ngrams(2) "
      ],
      "execution_count": 0,
      "outputs": [
        {
          "output_type": "execute_result",
          "data": {
            "text/plain": [
              "[WordList(['chattel', 'mortgage'])]"
            ]
          },
          "metadata": {
            "tags": []
          },
          "execution_count": 138
        }
      ]
    },
    {
      "cell_type": "markdown",
      "metadata": {
        "id": "BBiC4E_kefvV",
        "colab_type": "text"
      },
      "source": [
        "# 2. Python Regular Expression"
      ]
    },
    {
      "cell_type": "markdown",
      "metadata": {
        "id": "Z1QJ-UwCenvN",
        "colab_type": "text"
      },
      "source": [
        "## 2.1 Write a Python program to remove leading zeros from an IP address. \n",
        "\n",
        "ip = \"260.08.094.109\""
      ]
    },
    {
      "cell_type": "code",
      "metadata": {
        "id": "wSv6fVhOfFmv",
        "colab_type": "code",
        "outputId": "4d62b81d-bd06-4973-a81e-9b6d9b2fe20a",
        "colab": {
          "base_uri": "https://localhost:8080/",
          "height": 35
        }
      },
      "source": [
        "# Write your code here\n",
        "\n",
        "\n",
        "def removeLeadingZeros(ip): \n",
        "    ip_after_removing_leading_zeros = \".\".join([str(int(i)) for i in ip.split(\".\")])   \n",
        "    return ip_after_removing_leading_zeros\n",
        "\n",
        "removeLeadingZeros(\"001.200.001.004\")\n",
        "\n",
        "\n"
      ],
      "execution_count": 0,
      "outputs": [
        {
          "output_type": "execute_result",
          "data": {
            "text/plain": [
              "'1.200.1.4'"
            ]
          },
          "metadata": {
            "tags": []
          },
          "execution_count": 120
        }
      ]
    },
    {
      "cell_type": "markdown",
      "metadata": {
        "id": "PXRjaHzrfKAy",
        "colab_type": "text"
      },
      "source": [
        "## 2.2 Write a Python Program to extract all the years from the following sentence.\n",
        "\n",
        "sentence = \"The 2010s were a dramatic decade, filled with ups and downs, more than 1000 stroies have happened. As the decade comes to a close, Insider took a look back at some of the biggest headline-grabbing stories, from 2010 to 2019. The result was 119 news stories that ranged from the heartwarming rescue of a Thai boys' soccer team from a flooded cave to the divisive election of President Donald Trump.\""
      ]
    },
    {
      "cell_type": "code",
      "metadata": {
        "id": "7xdJpDx9gjbX",
        "colab_type": "code",
        "outputId": "dd19751b-a8f3-4d22-de70-f4fc71a2a919",
        "colab": {
          "base_uri": "https://localhost:8080/",
          "height": 35
        }
      },
      "source": [
        "import re\n",
        "sentence = \"The 2010s were a dramatic decade, filled with ups and downs, more than 1000 stroies have happened. As the decade comes to a close, Insider took a look back at some of the biggest headline-grabbing stories, from 2010 to 2019. The result was 119 news stories that ranged from the heartwarming rescue of a Thai boys' soccer team from a flooded cave to the divisive election of President Donald Trump\"\n",
        "years = re.findall(r'2\\d\\d\\d', sentence)\n",
        "print(years)"
      ],
      "execution_count": 0,
      "outputs": [
        {
          "output_type": "stream",
          "text": [
            "['2010', '2010', '2019']\n"
          ],
          "name": "stdout"
        }
      ]
    },
    {
      "cell_type": "code",
      "metadata": {
        "id": "JxDEYqqPCxFi",
        "colab_type": "code",
        "colab": {}
      },
      "source": [
        ""
      ],
      "execution_count": 0,
      "outputs": []
    }
  ]
}