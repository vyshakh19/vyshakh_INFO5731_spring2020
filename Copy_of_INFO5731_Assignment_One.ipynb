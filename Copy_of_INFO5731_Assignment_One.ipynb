{
  "nbformat": 4,
  "nbformat_minor": 0,
  "metadata": {
    "colab": {
      "name": "Copy of INFO5731_Assignment_One.ipynb",
      "provenance": [],
      "collapsed_sections": [],
      "include_colab_link": true
    },
    "kernelspec": {
      "name": "python3",
      "display_name": "Python 3"
    }
  },
  "cells": [
    {
      "cell_type": "markdown",
      "metadata": {
        "id": "view-in-github",
        "colab_type": "text"
      },
      "source": [
        "<a href=\"https://colab.research.google.com/github/vyshakh19/vyshakh_INFO5731_spring2020/blob/master/Copy_of_INFO5731_Assignment_One.ipynb\" target=\"_parent\"><img src=\"https://colab.research.google.com/assets/colab-badge.svg\" alt=\"Open In Colab\"/></a>"
      ]
    },
    {
      "cell_type": "markdown",
      "metadata": {
        "id": "Ryk8D1Q4Wsrp",
        "colab_type": "text"
      },
      "source": [
        "# **INFO5731 Assignment One**"
      ]
    },
    {
      "cell_type": "markdown",
      "metadata": {
        "id": "90_NR8c5XGWc",
        "colab_type": "text"
      },
      "source": [
        "# Question 1\n",
        "\n",
        "(20 points). Write a Python program to generate 12 random numbers between 1 and 100. Sort the list of numbers in ascending order and print it out. Sort the list of numbers in descending order and print it out. Calculate the average for the group and print it out."
      ]
    },
    {
      "cell_type": "code",
      "metadata": {
        "id": "5QX6bJjGWXY9",
        "colab_type": "code",
        "outputId": "4e454dba-6dfe-4e53-d45f-265c93be08a9",
        "colab": {
          "base_uri": "https://localhost:8080/",
          "height": 87
        }
      },
      "source": [
        "import random \n",
        "import statistics \n",
        "def Rand(start, end, num): \n",
        "    res = [] \n",
        "  \n",
        "    for j in range(num): \n",
        "        res.append(random.randint(start, end)) \n",
        "  \n",
        "    return res \n",
        "num = 12\n",
        "start = 1\n",
        "end = 100\n",
        "print(Rand(start, end, num)) \n",
        "a=Rand(start,end,num)\n",
        "a.sort()\n",
        "print(a)\n",
        "a.sort(reverse=True)\n",
        "print(a)\n",
        "x=statistics.mean(a)\n",
        "print(\"avg of numbers\",x)\n",
        "\n",
        "\n"
      ],
      "execution_count": 0,
      "outputs": [
        {
          "output_type": "stream",
          "text": [
            "[40, 92, 95, 49, 30, 95, 54, 25, 70, 90, 60, 29]\n",
            "[2, 5, 33, 44, 59, 63, 65, 78, 79, 80, 82, 90]\n",
            "[90, 82, 80, 79, 78, 65, 63, 59, 44, 33, 5, 2]\n",
            "avg of numbers 56.666666666666664\n"
          ],
          "name": "stdout"
        }
      ]
    },
    {
      "cell_type": "markdown",
      "metadata": {
        "id": "1F_PZdH9Sh49",
        "colab_type": "text"
      },
      "source": [
        "# Question 2\n",
        "(25 points). Write a program that will do the following string formatting tasks:\n",
        "\n",
        "(1) Ask the user to enter two sentences.\n",
        "\n",
        "(2) Make each sentence into a list. Each element in the list should correspond to a word in the sentence. For example, if the sentence is \"Alas! Am I alive? This is my first python program\", the program should print out ['Alas, '!', 'Am', 'I', 'alive, '?', 'This', 'is', 'my', 'first', 'python', 'program'].\n",
        "\n",
        "(3) Compare the two sentences. Print out a list of words that occur in both sentences.\n",
        "\n",
        "(4) Remove any punctuation from the sentence and print it back out. It should remove at least the following characters, but it can remove more: period(“.”), comma (“,”), semicolon (“;”), and colon (“:”)\n",
        "\n",
        "(5) Count the number of vowels in the sentences. Print out each vowel and the number of times it appears in the sentences, such as: a:2, e:1, i:0, etc"
      ]
    },
    {
      "cell_type": "code",
      "metadata": {
        "id": "Y0oOSlsOS0cq",
        "colab_type": "code",
        "outputId": "e510c6be-8cd3-455b-e4bd-f9c29523400c",
        "colab": {
          "base_uri": "https://localhost:8080/",
          "height": 243
        }
      },
      "source": [
        "import re\n",
        "\n",
        "def sentence_into_list(sentence):\n",
        "  reg_exp = re.compile(r'\\w+|[^\\w\\s]')\n",
        "  print(reg_exp.findall(sentence))\n",
        "\n",
        "def removing_punctuation(sentence):\n",
        "  print(sentence.translate(str.maketrans('', '', string.punctuation)))\n",
        "\n",
        "def common_words(sentence1,sentence2):\n",
        "  reg_exp = re.compile(r'\\w+|[^\\w\\s]')\n",
        "  print(list(set(reg_exp.findall(sentence1)).intersection(reg_exp.findall(sentence2))))\n",
        "\n",
        "def number_of_vowels(literal):\n",
        "  vowels = 'aeiou' \n",
        "  literal = literal.casefold()\n",
        "  count_of_vowels = {}.fromkeys(vowels,0)\n",
        "  for value in literal:\n",
        "     if value in count_of_vowels:\n",
        "         count_of_vowels[value] += 1\n",
        "  print(count_of_vowels)\n",
        "\n",
        "def main():\n",
        "  sentence1 = input(\"First sentence:\") \n",
        "  sentence2 = input(\"Second sentence: \") \n",
        "  print('Given sentences in the list form:')\n",
        "  sentence_into_list(sentence1)\n",
        "  sentence_into_list(sentence2)\n",
        "  print('Words which are common in both sentences')\n",
        "  common_words(sentence1,sentence2)\n",
        "  print('Sentences after removing punctuation:')\n",
        "  removing_punctuation(sentence1)\n",
        "  removing_punctuation(sentence2)\n",
        "  print('Number of vowels:')\n",
        "  number_of_vowels(sentence1)\n",
        "  number_of_vowels(sentence2)\n",
        "\n",
        "main()\n",
        "\n"
      ],
      "execution_count": 0,
      "outputs": [
        {
          "output_type": "stream",
          "text": [
            "First sentence:'Alas! Am I alive ?\n",
            "Second sentence: This is my first python program\n",
            "Given sentences in the list form:\n",
            "[\"'\", 'Alas', '!', 'Am', 'I', 'alive', '?']\n",
            "['This', 'is', 'my', 'first', 'python', 'program']\n",
            "Words which are common in both sentences\n",
            "[]\n",
            "Sentences after removing punctuation:\n",
            "Alas Am I alive \n",
            "This is my first python program\n",
            "Number of vowels:\n",
            "{'a': 4, 'e': 1, 'i': 2, 'o': 0, 'u': 0}\n",
            "{'a': 1, 'e': 0, 'i': 3, 'o': 2, 'u': 0}\n"
          ],
          "name": "stdout"
        }
      ]
    },
    {
      "cell_type": "markdown",
      "metadata": {
        "id": "CmFoI4jDS9nx",
        "colab_type": "text"
      },
      "source": [
        "# Question 3 \n",
        "\n",
        "(15 points). The formula that describes the volume V of a sphere with radius r is the following:\n",
        "\n",
        "$ V=\\frac{4}{3}\\ast\\ \\pi\\ast\\ r^3 $\n",
        "\n",
        "Write a program to calculate the value of V when r is in the range of 1–10. Output the result in the following format:\n",
        "\n",
        "\tr\tV\n",
        "\t1\t…\n",
        "\t2\t…\n",
        "\t3\t…\n"
      ]
    },
    {
      "cell_type": "code",
      "metadata": {
        "id": "pEyqeioAT95b",
        "colab_type": "code",
        "outputId": "ebed9aa3-dfb5-4d46-c469-405a652880cb",
        "colab": {
          "base_uri": "https://localhost:8080/",
          "height": 173
        }
      },
      "source": [
        "for r in range(1,10):\n",
        "  V=(4/3)*(22/7)*(r*r*r)\n",
        "  print(\"When r is {0} then volume is {1}\" .format(r, V))\n"
      ],
      "execution_count": 0,
      "outputs": [
        {
          "output_type": "stream",
          "text": [
            "When r is 1 then volume is 4.19047619047619\n",
            "When r is 2 then volume is 33.52380952380952\n",
            "When r is 3 then volume is 113.14285714285712\n",
            "When r is 4 then volume is 268.19047619047615\n",
            "When r is 5 then volume is 523.8095238095237\n",
            "When r is 6 then volume is 905.142857142857\n",
            "When r is 7 then volume is 1437.333333333333\n",
            "When r is 8 then volume is 2145.523809523809\n",
            "When r is 9 then volume is 3054.857142857142\n"
          ],
          "name": "stdout"
        }
      ]
    },
    {
      "cell_type": "code",
      "metadata": {
        "id": "pMCr3l8tnu0j",
        "colab_type": "code",
        "colab": {}
      },
      "source": [
        ""
      ],
      "execution_count": 0,
      "outputs": []
    },
    {
      "cell_type": "markdown",
      "metadata": {
        "id": "z3tBE7E-Xn5X",
        "colab_type": "text"
      },
      "source": [
        "# Question 4\n",
        "\n",
        "(40 points). In the field of Data Science, data is often formatted as a comma-delimited (CSV) file, where each line in a file corresponds to a field's value. Refer to Chapter 9 (p. 106) for more information on comma-delimited files. To answer this question, you will need to download the file [Assignment1_denton_housing.csv](https://github.com/unt-iialab/INFO5731_Spring2020/blob/master/Assignments/Assignment1_denton_housing.csv) included with this assignment. The [file Assignment1_denton_housing.csv](https://github.com/unt-iialab/INFO5731_Spring2020/blob/master/Assignments/Assignment1_denton_housing.csv) contains statistics about housing in the city of Denton from 2008 to 2014. Write a program to implement the following questions.\n",
        "\n",
        "(1) (10 pts) Calculate the difference in the number of Occupied Housing Units from year to year and print it. The difference must be calculated for the consecutive years such as 2008-2009, 2009-2010 etc. Finally, print the values in the ascending order.\n",
        "\n",
        "(2) (10 pts) For all the years, calculate the percentage of housing units which are vacant an occupied. Print the results in the following format:\n",
        "\n",
        "Year Vacant Housing Units Occupied Housing Units\n",
        "\n",
        "    2008  30%   70%                          \n",
        "\t2009 ----- -----\n",
        "\t2010 ----- -----\n",
        "    2011 ----- -----\n",
        "\t2012 ----- -----\n",
        "    2013 ----- -----\n",
        "\t2014 ----- -----\n",
        "  \n",
        "  \n",
        "\n",
        "(3) (10 pts) Calculate and print the valued and years in which the highest number of housing units were vacant and occupied. Print the results in the following format:  \n",
        "\n",
        "                              Year\tValue\n",
        "\tVacant Housing Units\t  -----   -----\n",
        "\tOccupied Housing Units\t-----   -----\n",
        "\n",
        "(4) (10 pts) Calculate the harmonic mean of the total housing units and print it out. You can find the information about harmonic mean here: https://ncalculators.com/statistics/harmonic-mean-calculator.htm"
      ]
    },
    {
      "cell_type": "code",
      "metadata": {
        "id": "lqGYuHBhcsRH",
        "colab_type": "code",
        "outputId": "039e9d83-66b3-431d-8dfb-957e3cbbb3ab",
        "colab": {
          "base_uri": "https://localhost:8080/",
          "height": 156
        }
      },
      "source": [
        "import pandas as pd\n",
        "dataset_url = 'https://raw.githubusercontent.com/unt-iialab/INFO5731_Spring2020/master/Assignments/Assignment1_denton_housing.csv'\n",
        "housing_df = pd.read_csv(dataset_url)\n",
        "housing_df = housing_df.loc[housing_df['title_field'] == 'Occupied Housing Units'].sort_values(by=['year'])\n",
        "print('Difference in the number of occupied housing units in ascending order')\n",
        "housing_df['value'].diff().sort_values().dropna()\n",
        "\n",
        "\n"
      ],
      "execution_count": 0,
      "outputs": [
        {
          "output_type": "stream",
          "text": [
            "Difference in the number of occupied housing units in ascending order\n"
          ],
          "name": "stdout"
        },
        {
          "output_type": "execute_result",
          "data": {
            "text/plain": [
              "17    -795.0\n",
              "11    -303.0\n",
              "8     1404.0\n",
              "5     1565.0\n",
              "2     2622.0\n",
              "14    5091.0\n",
              "Name: value, dtype: float64"
            ]
          },
          "metadata": {
            "tags": []
          },
          "execution_count": 33
        }
      ]
    },
    {
      "cell_type": "code",
      "metadata": {
        "id": "hxbo5MPoC8In",
        "colab_type": "code",
        "outputId": "0cb2dd92-4bee-4107-ea7b-62f1e968b367",
        "colab": {
          "base_uri": "https://localhost:8080/",
          "height": 156
        }
      },
      "source": [
        "denton_housing_df = pd.read_csv(dataset_url)\n",
        "occupied_houses = denton_housing_df.loc[denton_housing_df['title_field'] == 'Occupied Housing Units'].sort_values(by=['year'])['value'].values.tolist()\n",
        "vacant_houses = denton_housing_df.loc[denton_housing_df['title_field'] == 'Vacant Housing Units'].sort_values(by=['year'])['value'].values.tolist()\n",
        "total_houses = denton_housing_df.loc[denton_housing_df['title_field'] == 'Total Housing Units'].sort_values(by=['year'])['value'].values.tolist()\n",
        "vacant_houses_percentage = [str((value1 / value2)*100)+' %' for value1, value2 in zip(vacant_houses,total_houses)]\n",
        "occupied_houses_percentage = [str((value1 / value2)*100)+' %' for value1, value2 in zip(occupied_houses,total_houses)]\n",
        "df_after_contactination = pd.concat([pd.DataFrame(denton_housing_df.loc[denton_housing_df['title_field'] == 'Occupied Housing Units'].sort_values(by=['year'])['year'].values.tolist(),columns=['Year']),pd.DataFrame(vacant_houses_percentage,columns=['vacant housing units']), pd.DataFrame(occupied_houses_percentage,columns=['occupied housing units'])],axis=1)\n",
        "print(df_after_contactination)"
      ],
      "execution_count": 0,
      "outputs": [
        {
          "output_type": "stream",
          "text": [
            "   Year vacant housing units occupied housing units\n",
            "0  2008  10.88265281351653 %    89.11734718648347 %\n",
            "1  2009   9.07111572444872 %    90.92888427555128 %\n",
            "2  2010  8.142556337081672 %    91.85744366291833 %\n",
            "3  2011  9.379522229890688 %     90.6204777701093 %\n",
            "4  2012  6.677600230491346 %    93.32239976950866 %\n",
            "5  2013  8.801787504176412 %    91.19821249582358 %\n",
            "6  2014  5.730110570363885 %    94.26988942963611 %\n"
          ],
          "name": "stdout"
        }
      ]
    },
    {
      "cell_type": "code",
      "metadata": {
        "id": "nJfzfGwnDKtV",
        "colab_type": "code",
        "outputId": "bc52b985-1449-43b9-aa7f-e352efe31759",
        "colab": {
          "base_uri": "https://localhost:8080/",
          "height": 69
        }
      },
      "source": [
        "occupied_houses = denton_housing_df.loc[denton_housing_df['title_field'] == 'Occupied Housing Units']\n",
        "vacant_houses = denton_housing_df.loc[denton_housing_df['title_field'] == 'Vacant Housing Units']\n",
        "df_after_contactination = pd.concat([occupied_houses[occupied_houses['value']==occupied_houses['value'].max()],vacant_houses[vacant_houses['value']==vacant_houses['value'].max()]])\n",
        "print(df_after_contactination[['title_field','year','value']])\n"
      ],
      "execution_count": 0,
      "outputs": [
        {
          "output_type": "stream",
          "text": [
            "               title_field  year  value\n",
            "2   Occupied Housing Units  2014  46295\n",
            "19    Vacant Housing Units  2008   4483\n"
          ],
          "name": "stdout"
        }
      ]
    },
    {
      "cell_type": "code",
      "metadata": {
        "id": "TQS4BrWXDaiz",
        "colab_type": "code",
        "outputId": "2a59e499-ea9e-4b13-c1b9-b035cbf6b687",
        "colab": {
          "base_uri": "https://localhost:8080/",
          "height": 35
        }
      },
      "source": [
        "from scipy import stats\n",
        "print('harmonic mean =  {0}' .format(stats.hmean(total_houses)))"
      ],
      "execution_count": 0,
      "outputs": [
        {
          "output_type": "stream",
          "text": [
            "harmonic mean =  44398.28543969185\n"
          ],
          "name": "stdout"
        }
      ]
    }
  ]
}